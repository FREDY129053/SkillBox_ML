{
  "cells": [
    {
      "cell_type": "markdown",
      "metadata": {
        "id": "view-in-github",
        "colab_type": "text"
      },
      "source": [
        "<a href=\"https://colab.research.google.com/github/FREDY129053/SkillBox_ML/blob/main/9_11_HW_ML.ipynb\" target=\"_parent\"><img src=\"https://colab.research.google.com/assets/colab-badge.svg\" alt=\"Open In Colab\"/></a>"
      ]
    },
    {
      "cell_type": "markdown",
      "metadata": {
        "id": "CIu2DPx5tWcg"
      },
      "source": [
        "## Практическая работа"
      ]
    },
    {
      "cell_type": "markdown",
      "source": [
        "## Цели практической работы\n",
        "\n",
        "*  решить реальную задачу;\n",
        "*  потренироваться в обработке данных;\n",
        "*  обучить различные модели классификации, подобрать гиперпараметры и выбрать лучшую модель;\n",
        "*  добиться наилучшего качества в задаче."
      ],
      "metadata": {
        "id": "MEdLy24do28f"
      }
    },
    {
      "cell_type": "markdown",
      "source": [
        "## Что входит в практическую работу\n",
        "\n",
        "*  исследование датасета и обработка данных (работа с пропущенными и ошибочными значениями);\n",
        "*  обучение различных моделей классификации с параметрами по умолчанию;\n",
        "*  подбор гиперпараметров моделей;\n",
        "*  смешивание моделей;\n",
        "*  оценка качества моделей."
      ],
      "metadata": {
        "id": "d6oxDXgFpD_6"
      }
    },
    {
      "cell_type": "markdown",
      "source": [
        "## Что оценивается\n",
        "\n",
        "*  Выполнены все этапы задания: код запускается, отрабатывает без ошибок; подробно и обоснованно написаны текстовые выводы, где это требуется."
      ],
      "metadata": {
        "id": "WOZ8SueHpZGd"
      }
    },
    {
      "cell_type": "markdown",
      "source": [
        "## Формат сдачи\n",
        "Выполните предложенные задания: впишите свой код (или, если требуется, текст) в ячейки после комментариев.\n",
        "\n",
        "*Комментарии — это текст, который начинается с символа #. Например: # ваш код здесь.*\n",
        "\n",
        "Сохраните изменения, используя опцию Save and Checkpoint из вкладки меню File или кнопку Save and Checkpoint на панели инструментов. Итоговый файл в формате .ipynb (файл Jupyter Notebook) загрузите в личный кабинет и отправьте на проверку."
      ],
      "metadata": {
        "id": "UMr-wvh3pbrK"
      }
    },
    {
      "cell_type": "markdown",
      "metadata": {
        "id": "ENiWYl_EtWcm"
      },
      "source": [
        "### 1. Загрузите тренировочные и тестовые датасеты"
      ]
    },
    {
      "cell_type": "code",
      "source": [
        "!pip install category_encoders"
      ],
      "metadata": {
        "id": "ebM5dDq7fqIT"
      },
      "execution_count": null,
      "outputs": []
    },
    {
      "cell_type": "code",
      "execution_count": 5,
      "metadata": {
        "id": "_uf-KNwQtWcn"
      },
      "outputs": [],
      "source": [
        "import pandas as pd\n",
        "from category_encoders import TargetEncoder\n",
        "from sklearn.preprocessing import StandardScaler\n",
        "from sklearn.linear_model import LogisticRegression\n",
        "from sklearn.svm import SVC\n",
        "from sklearn.neighbors import KNeighborsClassifier\n",
        "\n",
        "Xtrain = pd.read_csv(\"/content/TrainData.csv\")\n",
        "Xtest = pd.read_csv(\"/content/TestData.csv\")"
      ]
    },
    {
      "cell_type": "markdown",
      "metadata": {
        "id": "CaELM2gPtWcq"
      },
      "source": [
        "### 2. Изучите тренировочные и тестовые данные на наличие:\n",
        "- пропусков,\n",
        "- ошибочных значений.\n",
        "\n",
        "Обработайте пропуски и ошибочные значения способом, выбранным по своему усмотрению."
      ]
    },
    {
      "cell_type": "code",
      "execution_count": 11,
      "metadata": {
        "id": "sqevAjp-tWcr",
        "colab": {
          "base_uri": "https://localhost:8080/"
        },
        "collapsed": true,
        "outputId": "57d5b395-1d9b-4472-d30a-242865dd98d8"
      },
      "outputs": [
        {
          "output_type": "stream",
          "name": "stdout",
          "text": [
            "f1           0\n",
            "f2          75\n",
            "f3           0\n",
            "f4           0\n",
            "f5           0\n",
            "f6           0\n",
            "f7        1875\n",
            "f8           0\n",
            "f9           0\n",
            "f10          0\n",
            "f11         10\n",
            "f12          0\n",
            "f13          0\n",
            "f14          0\n",
            "target       0\n",
            "dtype: int64\n",
            "\n",
            "<class 'pandas.core.frame.DataFrame'>\n",
            "RangeIndex: 7500 entries, 0 to 7499\n",
            "Data columns (total 15 columns):\n",
            " #   Column  Non-Null Count  Dtype  \n",
            "---  ------  --------------  -----  \n",
            " 0   f1      7500 non-null   int64  \n",
            " 1   f2      7425 non-null   float64\n",
            " 2   f3      7500 non-null   int64  \n",
            " 3   f4      7500 non-null   float64\n",
            " 4   f5      7500 non-null   int64  \n",
            " 5   f6      7500 non-null   float64\n",
            " 6   f7      5625 non-null   float64\n",
            " 7   f8      7500 non-null   float64\n",
            " 8   f9      7500 non-null   float64\n",
            " 9   f10     7500 non-null   float64\n",
            " 10  f11     7490 non-null   float64\n",
            " 11  f12     7500 non-null   int64  \n",
            " 12  f13     7500 non-null   int64  \n",
            " 13  f14     7500 non-null   float64\n",
            " 14  target  7500 non-null   int64  \n",
            "dtypes: float64(9), int64(6)\n",
            "memory usage: 879.0 KB\n",
            "None\n"
          ]
        }
      ],
      "source": [
        "# Ваш код здесь\n",
        "print(Xtrain.isnull().sum(), end='\\n\\n')\n",
        "print(Xtrain.info())"
      ]
    },
    {
      "cell_type": "code",
      "source": [
        "Xtrain_without_null = pd.DataFrame(Xtrain)\n",
        "\n",
        "Xtrain_without_null['f2'].fillna(Xtrain_without_null['f2'].mean(), inplace = True)\n",
        "Xtrain_without_null['f7'].fillna(Xtrain_without_null['f7'].mean(), inplace = True)\n",
        "Xtrain_without_null['f11'].fillna(Xtrain_without_null['f11'].mean(), inplace = True)\n",
        "\n",
        "print(200)"
      ],
      "metadata": {
        "colab": {
          "base_uri": "https://localhost:8080/",
          "height": 163
        },
        "id": "l81go63IhY9i",
        "outputId": "9188a008-9610-4934-9edf-9b9d3cdc45f1"
      },
      "execution_count": 14,
      "outputs": [
        {
          "output_type": "execute_result",
          "data": {
            "text/plain": [
              "              f1          f2            f3        f4         f5        f6  \\\n",
              "f2                                                                          \n",
              "False  38.578316  238.905308  190507.89697  0.238750  10.080135  0.238694   \n",
              "True   38.706667         NaN  178216.88000  0.257101  10.386667  0.262640   \n",
              "\n",
              "             f7        f8         f9       f10          f11         f12  \\\n",
              "f2                                                                        \n",
              "False  0.240345  0.238706  23.894310  0.238842  1052.881457   88.363502   \n",
              "True   0.263118  0.261476  23.796599  0.248020  2632.026667  149.506667   \n",
              "\n",
              "             f13       f14    target  \n",
              "f2                                    \n",
              "False  40.666397  0.238942  0.238384  \n",
              "True   41.106667  0.240207  0.293333  "
            ],
            "text/html": [
              "\n",
              "  <div id=\"df-091205d3-a90d-4455-9d4a-e6e4820e4ba7\" class=\"colab-df-container\">\n",
              "    <div>\n",
              "<style scoped>\n",
              "    .dataframe tbody tr th:only-of-type {\n",
              "        vertical-align: middle;\n",
              "    }\n",
              "\n",
              "    .dataframe tbody tr th {\n",
              "        vertical-align: top;\n",
              "    }\n",
              "\n",
              "    .dataframe thead th {\n",
              "        text-align: right;\n",
              "    }\n",
              "</style>\n",
              "<table border=\"1\" class=\"dataframe\">\n",
              "  <thead>\n",
              "    <tr style=\"text-align: right;\">\n",
              "      <th></th>\n",
              "      <th>f1</th>\n",
              "      <th>f2</th>\n",
              "      <th>f3</th>\n",
              "      <th>f4</th>\n",
              "      <th>f5</th>\n",
              "      <th>f6</th>\n",
              "      <th>f7</th>\n",
              "      <th>f8</th>\n",
              "      <th>f9</th>\n",
              "      <th>f10</th>\n",
              "      <th>f11</th>\n",
              "      <th>f12</th>\n",
              "      <th>f13</th>\n",
              "      <th>f14</th>\n",
              "      <th>target</th>\n",
              "    </tr>\n",
              "    <tr>\n",
              "      <th>f2</th>\n",
              "      <th></th>\n",
              "      <th></th>\n",
              "      <th></th>\n",
              "      <th></th>\n",
              "      <th></th>\n",
              "      <th></th>\n",
              "      <th></th>\n",
              "      <th></th>\n",
              "      <th></th>\n",
              "      <th></th>\n",
              "      <th></th>\n",
              "      <th></th>\n",
              "      <th></th>\n",
              "      <th></th>\n",
              "      <th></th>\n",
              "    </tr>\n",
              "  </thead>\n",
              "  <tbody>\n",
              "    <tr>\n",
              "      <th>False</th>\n",
              "      <td>38.578316</td>\n",
              "      <td>238.905308</td>\n",
              "      <td>190507.89697</td>\n",
              "      <td>0.238750</td>\n",
              "      <td>10.080135</td>\n",
              "      <td>0.238694</td>\n",
              "      <td>0.240345</td>\n",
              "      <td>0.238706</td>\n",
              "      <td>23.894310</td>\n",
              "      <td>0.238842</td>\n",
              "      <td>1052.881457</td>\n",
              "      <td>88.363502</td>\n",
              "      <td>40.666397</td>\n",
              "      <td>0.238942</td>\n",
              "      <td>0.238384</td>\n",
              "    </tr>\n",
              "    <tr>\n",
              "      <th>True</th>\n",
              "      <td>38.706667</td>\n",
              "      <td>NaN</td>\n",
              "      <td>178216.88000</td>\n",
              "      <td>0.257101</td>\n",
              "      <td>10.386667</td>\n",
              "      <td>0.262640</td>\n",
              "      <td>0.263118</td>\n",
              "      <td>0.261476</td>\n",
              "      <td>23.796599</td>\n",
              "      <td>0.248020</td>\n",
              "      <td>2632.026667</td>\n",
              "      <td>149.506667</td>\n",
              "      <td>41.106667</td>\n",
              "      <td>0.240207</td>\n",
              "      <td>0.293333</td>\n",
              "    </tr>\n",
              "  </tbody>\n",
              "</table>\n",
              "</div>\n",
              "    <div class=\"colab-df-buttons\">\n",
              "\n",
              "  <div class=\"colab-df-container\">\n",
              "    <button class=\"colab-df-convert\" onclick=\"convertToInteractive('df-091205d3-a90d-4455-9d4a-e6e4820e4ba7')\"\n",
              "            title=\"Convert this dataframe to an interactive table.\"\n",
              "            style=\"display:none;\">\n",
              "\n",
              "  <svg xmlns=\"http://www.w3.org/2000/svg\" height=\"24px\" viewBox=\"0 -960 960 960\">\n",
              "    <path d=\"M120-120v-720h720v720H120Zm60-500h600v-160H180v160Zm220 220h160v-160H400v160Zm0 220h160v-160H400v160ZM180-400h160v-160H180v160Zm440 0h160v-160H620v160ZM180-180h160v-160H180v160Zm440 0h160v-160H620v160Z\"/>\n",
              "  </svg>\n",
              "    </button>\n",
              "\n",
              "  <style>\n",
              "    .colab-df-container {\n",
              "      display:flex;\n",
              "      gap: 12px;\n",
              "    }\n",
              "\n",
              "    .colab-df-convert {\n",
              "      background-color: #E8F0FE;\n",
              "      border: none;\n",
              "      border-radius: 50%;\n",
              "      cursor: pointer;\n",
              "      display: none;\n",
              "      fill: #1967D2;\n",
              "      height: 32px;\n",
              "      padding: 0 0 0 0;\n",
              "      width: 32px;\n",
              "    }\n",
              "\n",
              "    .colab-df-convert:hover {\n",
              "      background-color: #E2EBFA;\n",
              "      box-shadow: 0px 1px 2px rgba(60, 64, 67, 0.3), 0px 1px 3px 1px rgba(60, 64, 67, 0.15);\n",
              "      fill: #174EA6;\n",
              "    }\n",
              "\n",
              "    .colab-df-buttons div {\n",
              "      margin-bottom: 4px;\n",
              "    }\n",
              "\n",
              "    [theme=dark] .colab-df-convert {\n",
              "      background-color: #3B4455;\n",
              "      fill: #D2E3FC;\n",
              "    }\n",
              "\n",
              "    [theme=dark] .colab-df-convert:hover {\n",
              "      background-color: #434B5C;\n",
              "      box-shadow: 0px 1px 3px 1px rgba(0, 0, 0, 0.15);\n",
              "      filter: drop-shadow(0px 1px 2px rgba(0, 0, 0, 0.3));\n",
              "      fill: #FFFFFF;\n",
              "    }\n",
              "  </style>\n",
              "\n",
              "    <script>\n",
              "      const buttonEl =\n",
              "        document.querySelector('#df-091205d3-a90d-4455-9d4a-e6e4820e4ba7 button.colab-df-convert');\n",
              "      buttonEl.style.display =\n",
              "        google.colab.kernel.accessAllowed ? 'block' : 'none';\n",
              "\n",
              "      async function convertToInteractive(key) {\n",
              "        const element = document.querySelector('#df-091205d3-a90d-4455-9d4a-e6e4820e4ba7');\n",
              "        const dataTable =\n",
              "          await google.colab.kernel.invokeFunction('convertToInteractive',\n",
              "                                                    [key], {});\n",
              "        if (!dataTable) return;\n",
              "\n",
              "        const docLinkHtml = 'Like what you see? Visit the ' +\n",
              "          '<a target=\"_blank\" href=https://colab.research.google.com/notebooks/data_table.ipynb>data table notebook</a>'\n",
              "          + ' to learn more about interactive tables.';\n",
              "        element.innerHTML = '';\n",
              "        dataTable['output_type'] = 'display_data';\n",
              "        await google.colab.output.renderOutput(dataTable, element);\n",
              "        const docLink = document.createElement('div');\n",
              "        docLink.innerHTML = docLinkHtml;\n",
              "        element.appendChild(docLink);\n",
              "      }\n",
              "    </script>\n",
              "  </div>\n",
              "\n",
              "\n",
              "<div id=\"df-7b178912-5ea3-4487-9187-9f0acd25ee4f\">\n",
              "  <button class=\"colab-df-quickchart\" onclick=\"quickchart('df-7b178912-5ea3-4487-9187-9f0acd25ee4f')\"\n",
              "            title=\"Suggest charts\"\n",
              "            style=\"display:none;\">\n",
              "\n",
              "<svg xmlns=\"http://www.w3.org/2000/svg\" height=\"24px\"viewBox=\"0 0 24 24\"\n",
              "     width=\"24px\">\n",
              "    <g>\n",
              "        <path d=\"M19 3H5c-1.1 0-2 .9-2 2v14c0 1.1.9 2 2 2h14c1.1 0 2-.9 2-2V5c0-1.1-.9-2-2-2zM9 17H7v-7h2v7zm4 0h-2V7h2v10zm4 0h-2v-4h2v4z\"/>\n",
              "    </g>\n",
              "</svg>\n",
              "  </button>\n",
              "\n",
              "<style>\n",
              "  .colab-df-quickchart {\n",
              "      --bg-color: #E8F0FE;\n",
              "      --fill-color: #1967D2;\n",
              "      --hover-bg-color: #E2EBFA;\n",
              "      --hover-fill-color: #174EA6;\n",
              "      --disabled-fill-color: #AAA;\n",
              "      --disabled-bg-color: #DDD;\n",
              "  }\n",
              "\n",
              "  [theme=dark] .colab-df-quickchart {\n",
              "      --bg-color: #3B4455;\n",
              "      --fill-color: #D2E3FC;\n",
              "      --hover-bg-color: #434B5C;\n",
              "      --hover-fill-color: #FFFFFF;\n",
              "      --disabled-bg-color: #3B4455;\n",
              "      --disabled-fill-color: #666;\n",
              "  }\n",
              "\n",
              "  .colab-df-quickchart {\n",
              "    background-color: var(--bg-color);\n",
              "    border: none;\n",
              "    border-radius: 50%;\n",
              "    cursor: pointer;\n",
              "    display: none;\n",
              "    fill: var(--fill-color);\n",
              "    height: 32px;\n",
              "    padding: 0;\n",
              "    width: 32px;\n",
              "  }\n",
              "\n",
              "  .colab-df-quickchart:hover {\n",
              "    background-color: var(--hover-bg-color);\n",
              "    box-shadow: 0 1px 2px rgba(60, 64, 67, 0.3), 0 1px 3px 1px rgba(60, 64, 67, 0.15);\n",
              "    fill: var(--button-hover-fill-color);\n",
              "  }\n",
              "\n",
              "  .colab-df-quickchart-complete:disabled,\n",
              "  .colab-df-quickchart-complete:disabled:hover {\n",
              "    background-color: var(--disabled-bg-color);\n",
              "    fill: var(--disabled-fill-color);\n",
              "    box-shadow: none;\n",
              "  }\n",
              "\n",
              "  .colab-df-spinner {\n",
              "    border: 2px solid var(--fill-color);\n",
              "    border-color: transparent;\n",
              "    border-bottom-color: var(--fill-color);\n",
              "    animation:\n",
              "      spin 1s steps(1) infinite;\n",
              "  }\n",
              "\n",
              "  @keyframes spin {\n",
              "    0% {\n",
              "      border-color: transparent;\n",
              "      border-bottom-color: var(--fill-color);\n",
              "      border-left-color: var(--fill-color);\n",
              "    }\n",
              "    20% {\n",
              "      border-color: transparent;\n",
              "      border-left-color: var(--fill-color);\n",
              "      border-top-color: var(--fill-color);\n",
              "    }\n",
              "    30% {\n",
              "      border-color: transparent;\n",
              "      border-left-color: var(--fill-color);\n",
              "      border-top-color: var(--fill-color);\n",
              "      border-right-color: var(--fill-color);\n",
              "    }\n",
              "    40% {\n",
              "      border-color: transparent;\n",
              "      border-right-color: var(--fill-color);\n",
              "      border-top-color: var(--fill-color);\n",
              "    }\n",
              "    60% {\n",
              "      border-color: transparent;\n",
              "      border-right-color: var(--fill-color);\n",
              "    }\n",
              "    80% {\n",
              "      border-color: transparent;\n",
              "      border-right-color: var(--fill-color);\n",
              "      border-bottom-color: var(--fill-color);\n",
              "    }\n",
              "    90% {\n",
              "      border-color: transparent;\n",
              "      border-bottom-color: var(--fill-color);\n",
              "    }\n",
              "  }\n",
              "</style>\n",
              "\n",
              "  <script>\n",
              "    async function quickchart(key) {\n",
              "      const quickchartButtonEl =\n",
              "        document.querySelector('#' + key + ' button');\n",
              "      quickchartButtonEl.disabled = true;  // To prevent multiple clicks.\n",
              "      quickchartButtonEl.classList.add('colab-df-spinner');\n",
              "      try {\n",
              "        const charts = await google.colab.kernel.invokeFunction(\n",
              "            'suggestCharts', [key], {});\n",
              "      } catch (error) {\n",
              "        console.error('Error during call to suggestCharts:', error);\n",
              "      }\n",
              "      quickchartButtonEl.classList.remove('colab-df-spinner');\n",
              "      quickchartButtonEl.classList.add('colab-df-quickchart-complete');\n",
              "    }\n",
              "    (() => {\n",
              "      let quickchartButtonEl =\n",
              "        document.querySelector('#df-7b178912-5ea3-4487-9187-9f0acd25ee4f button');\n",
              "      quickchartButtonEl.style.display =\n",
              "        google.colab.kernel.accessAllowed ? 'block' : 'none';\n",
              "    })();\n",
              "  </script>\n",
              "</div>\n",
              "    </div>\n",
              "  </div>\n"
            ],
            "application/vnd.google.colaboratory.intrinsic+json": {
              "type": "dataframe",
              "repr_error": "cannot insert f2, already exists"
            }
          },
          "metadata": {},
          "execution_count": 14
        }
      ]
    },
    {
      "cell_type": "markdown",
      "metadata": {
        "id": "oQkpwQGHtWcr"
      },
      "source": [
        "### 3. Оцените баланс классов в задаче\n",
        "- Затем попытайтесь устно ответить на вопрос, можно ли использовать accuracy как метрику качества в задаче?"
      ]
    },
    {
      "cell_type": "code",
      "execution_count": null,
      "metadata": {
        "id": "csjvNCCutWcs"
      },
      "outputs": [],
      "source": [
        "# Ваш код здесь"
      ]
    },
    {
      "cell_type": "markdown",
      "metadata": {
        "id": "xB_ReQ62tWct"
      },
      "source": [
        "### 3. Постройте baseline-модель:\n",
        "- разбейте TrainData на тренировочные (Train) и тестовые данные (Test);\n",
        "- обучите KNN, LogisticRegression и SVC с параметрами по умолчанию на тренировочных данных (Train);\n",
        "- примените модели на тестовых данных (Test) и вычислите значение метрики f1."
      ]
    },
    {
      "cell_type": "code",
      "execution_count": null,
      "metadata": {
        "id": "WUfRVj5ctWcu"
      },
      "outputs": [],
      "source": [
        "from sklearn.metrics import f1_score\n",
        "\n",
        "# Ваш код здесь"
      ]
    },
    {
      "cell_type": "markdown",
      "metadata": {
        "id": "KYQnr8CftWcv"
      },
      "source": [
        "### 4. Улучшите модели\n",
        "Попробуйте улучшить качество обученных моделей:\n",
        "- можете подбирать гиперпараметры моделей (лучше это делать по кросс-валидации на Train, то есть с помощью использования GridSearchCV на Train);\n",
        "- можете задавать class_weights;\n",
        "- можете вручную или при помощи методов Python генерировать новые признаки и/или удалять существующие.\n",
        "\n",
        "Это самая важная и творческая часть задания. Проводите как можно больше экспериментов!\n",
        "\n",
        "Проведите минимиум три эксперимента: для каждого типа модели минимум один эксперимент."
      ]
    },
    {
      "cell_type": "code",
      "execution_count": null,
      "metadata": {
        "id": "ZJrKNIw8tWcw"
      },
      "outputs": [],
      "source": [
        "# Ваш код здесь"
      ]
    },
    {
      "cell_type": "markdown",
      "metadata": {
        "id": "yfu3yy_7tWcy"
      },
      "source": [
        "### 5. Оцените на отложенной выборке качество наилучшей модели\n",
        "В пунктах 3 и 4 вы построили много разных моделей.\n",
        "\n",
        "Возьмите ту, которая дала наилучшее качество на тестовых данных (Test). Примените её на отложенной выборке (TestData) и выведите на экран значение метрики f1."
      ]
    },
    {
      "cell_type": "code",
      "execution_count": null,
      "metadata": {
        "id": "upHUOfrktWcy"
      },
      "outputs": [],
      "source": [
        "# Ваш код здесь"
      ]
    },
    {
      "cell_type": "markdown",
      "metadata": {
        "id": "YZT0rMuStWcz"
      },
      "source": [
        "### 6. Выполните хитрый трюк\n",
        "Часто смешивание различных моделей даёт улучшение итогового предсказания. Попробуйте смешать две лучшие модели по формуле:\n",
        "$$pred_{final} = \\alpha\\cdot pred_1 + (1-\\alpha)\\cdot pred_2$$.\n",
        "\n",
        "Значение $\\alpha$ подберите в цикле по Test-выборке. Оцените качество на отложенной выборке.\n",
        "\n",
        "Удалось ли добиться улучшения качества?"
      ]
    },
    {
      "cell_type": "code",
      "execution_count": null,
      "metadata": {
        "id": "3DdSsk6gtWc7"
      },
      "outputs": [],
      "source": [
        "# Ваш код здесь"
      ]
    },
    {
      "cell_type": "markdown",
      "metadata": {
        "id": "9b9imFkLtWc8"
      },
      "source": [
        "### 7. Сделайте выводы\n",
        "\n",
        "Запишите в отдельной ячейке текстом выводы о проделанной работе. Для этого ответьте на вопросы:\n",
        "- Какие подходы вы использовали для улучшения работы baseline-моделей?\n",
        "- Какого максимального качества удалось добиться на Test-данных?\n",
        "- Какое при этом получилось качество на отложенной выборке?\n",
        "- Ваша модель переобучилась, недообучилась или обучилась как надо?"
      ]
    },
    {
      "cell_type": "code",
      "execution_count": null,
      "metadata": {
        "id": "wWgT4ulytWc-"
      },
      "outputs": [],
      "source": [
        "# Ваш текст здесь"
      ]
    },
    {
      "cell_type": "markdown",
      "metadata": {
        "id": "cnFjm55atWc-"
      },
      "source": [
        "Важный комментарий! В реальных задачах не следует ожидать, что машинным обучением всегда удастся решить задачу с хорошим качеством. Но использовать все имеющиеся у вас в арсенале методы для достижения наилучшего результата нужно."
      ]
    }
  ],
  "metadata": {
    "kernelspec": {
      "display_name": "Python 3",
      "language": "python",
      "name": "python3"
    },
    "language_info": {
      "codemirror_mode": {
        "name": "ipython",
        "version": 3
      },
      "file_extension": ".py",
      "mimetype": "text/x-python",
      "name": "python",
      "nbconvert_exporter": "python",
      "pygments_lexer": "ipython3",
      "version": "3.7.6"
    },
    "colab": {
      "provenance": [],
      "include_colab_link": true
    }
  },
  "nbformat": 4,
  "nbformat_minor": 0
}