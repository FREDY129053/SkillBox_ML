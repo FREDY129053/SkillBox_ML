{
  "cells": [
    {
      "cell_type": "markdown",
      "metadata": {
        "id": "view-in-github",
        "colab_type": "text"
      },
      "source": [
        "<a href=\"https://colab.research.google.com/github/FREDY129053/SkillBox_ML/blob/main/9_11_HW_ML.ipynb\" target=\"_parent\"><img src=\"https://colab.research.google.com/assets/colab-badge.svg\" alt=\"Open In Colab\"/></a>"
      ]
    },
    {
      "cell_type": "markdown",
      "metadata": {
        "id": "CIu2DPx5tWcg"
      },
      "source": [
        "## Практическая работа"
      ]
    },
    {
      "cell_type": "markdown",
      "source": [
        "## Цели практической работы\n",
        "\n",
        "*  решить реальную задачу;\n",
        "*  потренироваться в обработке данных;\n",
        "*  обучить различные модели классификации, подобрать гиперпараметры и выбрать лучшую модель;\n",
        "*  добиться наилучшего качества в задаче."
      ],
      "metadata": {
        "id": "MEdLy24do28f"
      }
    },
    {
      "cell_type": "markdown",
      "source": [
        "## Что входит в практическую работу\n",
        "\n",
        "*  исследование датасета и обработка данных (работа с пропущенными и ошибочными значениями);\n",
        "*  обучение различных моделей классификации с параметрами по умолчанию;\n",
        "*  подбор гиперпараметров моделей;\n",
        "*  смешивание моделей;\n",
        "*  оценка качества моделей."
      ],
      "metadata": {
        "id": "d6oxDXgFpD_6"
      }
    },
    {
      "cell_type": "markdown",
      "source": [
        "## Что оценивается\n",
        "\n",
        "*  Выполнены все этапы задания: код запускается, отрабатывает без ошибок; подробно и обоснованно написаны текстовые выводы, где это требуется."
      ],
      "metadata": {
        "id": "WOZ8SueHpZGd"
      }
    },
    {
      "cell_type": "markdown",
      "source": [
        "## Формат сдачи\n",
        "Выполните предложенные задания: впишите свой код (или, если требуется, текст) в ячейки после комментариев.\n",
        "\n",
        "*Комментарии — это текст, который начинается с символа #. Например: # ваш код здесь.*\n",
        "\n",
        "Сохраните изменения, используя опцию Save and Checkpoint из вкладки меню File или кнопку Save and Checkpoint на панели инструментов. Итоговый файл в формате .ipynb (файл Jupyter Notebook) загрузите в личный кабинет и отправьте на проверку."
      ],
      "metadata": {
        "id": "UMr-wvh3pbrK"
      }
    },
    {
      "cell_type": "markdown",
      "metadata": {
        "id": "ENiWYl_EtWcm"
      },
      "source": [
        "### 1. Загрузите тренировочные и тестовые датасеты"
      ]
    },
    {
      "cell_type": "code",
      "source": [
        "!pip install category_encoders"
      ],
      "metadata": {
        "colab": {
          "base_uri": "https://localhost:8080/"
        },
        "id": "ebM5dDq7fqIT",
        "outputId": "ff41f061-89a7-4d50-acae-5652927b4904"
      },
      "execution_count": 1,
      "outputs": [
        {
          "output_type": "stream",
          "name": "stdout",
          "text": [
            "Collecting category_encoders\n",
            "  Downloading category_encoders-2.6.3-py2.py3-none-any.whl (81 kB)\n",
            "\u001b[2K     \u001b[90m━━━━━━━━━━━━━━━━━━━━━━━━━━━━━━━━━━━━━━━━\u001b[0m \u001b[32m81.9/81.9 kB\u001b[0m \u001b[31m806.2 kB/s\u001b[0m eta \u001b[36m0:00:00\u001b[0m\n",
            "\u001b[?25hRequirement already satisfied: numpy>=1.14.0 in /usr/local/lib/python3.10/dist-packages (from category_encoders) (1.25.2)\n",
            "Requirement already satisfied: scikit-learn>=0.20.0 in /usr/local/lib/python3.10/dist-packages (from category_encoders) (1.2.2)\n",
            "Requirement already satisfied: scipy>=1.0.0 in /usr/local/lib/python3.10/dist-packages (from category_encoders) (1.11.4)\n",
            "Requirement already satisfied: statsmodels>=0.9.0 in /usr/local/lib/python3.10/dist-packages (from category_encoders) (0.14.2)\n",
            "Requirement already satisfied: pandas>=1.0.5 in /usr/local/lib/python3.10/dist-packages (from category_encoders) (2.0.3)\n",
            "Requirement already satisfied: patsy>=0.5.1 in /usr/local/lib/python3.10/dist-packages (from category_encoders) (0.5.6)\n",
            "Requirement already satisfied: python-dateutil>=2.8.2 in /usr/local/lib/python3.10/dist-packages (from pandas>=1.0.5->category_encoders) (2.8.2)\n",
            "Requirement already satisfied: pytz>=2020.1 in /usr/local/lib/python3.10/dist-packages (from pandas>=1.0.5->category_encoders) (2023.4)\n",
            "Requirement already satisfied: tzdata>=2022.1 in /usr/local/lib/python3.10/dist-packages (from pandas>=1.0.5->category_encoders) (2024.1)\n",
            "Requirement already satisfied: six in /usr/local/lib/python3.10/dist-packages (from patsy>=0.5.1->category_encoders) (1.16.0)\n",
            "Requirement already satisfied: joblib>=1.1.1 in /usr/local/lib/python3.10/dist-packages (from scikit-learn>=0.20.0->category_encoders) (1.4.2)\n",
            "Requirement already satisfied: threadpoolctl>=2.0.0 in /usr/local/lib/python3.10/dist-packages (from scikit-learn>=0.20.0->category_encoders) (3.5.0)\n",
            "Requirement already satisfied: packaging>=21.3 in /usr/local/lib/python3.10/dist-packages (from statsmodels>=0.9.0->category_encoders) (24.0)\n",
            "Installing collected packages: category_encoders\n",
            "Successfully installed category_encoders-2.6.3\n"
          ]
        }
      ]
    },
    {
      "cell_type": "code",
      "execution_count": 2,
      "metadata": {
        "id": "_uf-KNwQtWcn"
      },
      "outputs": [],
      "source": [
        "import pandas as pd\n",
        "from category_encoders import TargetEncoder\n",
        "from sklearn.preprocessing import StandardScaler\n",
        "from sklearn.linear_model import LogisticRegression\n",
        "from sklearn.svm import SVC\n",
        "from sklearn.neighbors import KNeighborsClassifier\n",
        "\n",
        "Xtrain = pd.read_csv(\"/content/TrainData.csv\")\n",
        "Xtest = pd.read_csv(\"/content/TestData.csv\")"
      ]
    },
    {
      "cell_type": "markdown",
      "metadata": {
        "id": "CaELM2gPtWcq"
      },
      "source": [
        "### 2. Изучите тренировочные и тестовые данные на наличие:\n",
        "- пропусков,\n",
        "- ошибочных значений.\n",
        "\n",
        "Обработайте пропуски и ошибочные значения способом, выбранным по своему усмотрению."
      ]
    },
    {
      "cell_type": "code",
      "execution_count": 3,
      "metadata": {
        "id": "sqevAjp-tWcr",
        "colab": {
          "base_uri": "https://localhost:8080/"
        },
        "collapsed": true,
        "outputId": "e2108887-5c1c-4ce7-9e2a-8e6bcaa44473"
      },
      "outputs": [
        {
          "output_type": "stream",
          "name": "stdout",
          "text": [
            "f1           0\n",
            "f2          75\n",
            "f3           0\n",
            "f4           0\n",
            "f5           0\n",
            "f6           0\n",
            "f7        1875\n",
            "f8           0\n",
            "f9           0\n",
            "f10          0\n",
            "f11         10\n",
            "f12          0\n",
            "f13          0\n",
            "f14          0\n",
            "target       0\n",
            "dtype: int64\n",
            "\n",
            "<class 'pandas.core.frame.DataFrame'>\n",
            "RangeIndex: 7500 entries, 0 to 7499\n",
            "Data columns (total 15 columns):\n",
            " #   Column  Non-Null Count  Dtype  \n",
            "---  ------  --------------  -----  \n",
            " 0   f1      7500 non-null   int64  \n",
            " 1   f2      7425 non-null   float64\n",
            " 2   f3      7500 non-null   int64  \n",
            " 3   f4      7500 non-null   float64\n",
            " 4   f5      7500 non-null   int64  \n",
            " 5   f6      7500 non-null   float64\n",
            " 6   f7      5625 non-null   float64\n",
            " 7   f8      7500 non-null   float64\n",
            " 8   f9      7500 non-null   float64\n",
            " 9   f10     7500 non-null   float64\n",
            " 10  f11     7490 non-null   float64\n",
            " 11  f12     7500 non-null   int64  \n",
            " 12  f13     7500 non-null   int64  \n",
            " 13  f14     7500 non-null   float64\n",
            " 14  target  7500 non-null   int64  \n",
            "dtypes: float64(9), int64(6)\n",
            "memory usage: 879.0 KB\n",
            "None\n"
          ]
        }
      ],
      "source": [
        "# Ваш код здесь\n",
        "print(Xtrain.isnull().sum(), end='\\n\\n')\n",
        "print(Xtrain.info())"
      ]
    },
    {
      "cell_type": "code",
      "source": [
        "Xtrain_without_null = pd.DataFrame(Xtrain)\n",
        "\n",
        "Xtrain_without_null['f2'].fillna(Xtrain_without_null['f2'].mean(), inplace = True)\n",
        "Xtrain_without_null['f7'].fillna(Xtrain_without_null['f7'].mean(), inplace = True)\n",
        "Xtrain_without_null['f11'].fillna(Xtrain_without_null['f11'].mean(), inplace = True)"
      ],
      "metadata": {
        "id": "l81go63IhY9i"
      },
      "execution_count": 4,
      "outputs": []
    },
    {
      "cell_type": "markdown",
      "metadata": {
        "id": "oQkpwQGHtWcr"
      },
      "source": [
        "### 3. Оцените баланс классов в задаче\n",
        "- Затем попытайтесь устно ответить на вопрос, можно ли использовать accuracy как метрику качества в задаче?"
      ]
    },
    {
      "cell_type": "code",
      "execution_count": 5,
      "metadata": {
        "id": "csjvNCCutWcs",
        "colab": {
          "base_uri": "https://localhost:8080/"
        },
        "outputId": "746907ab-d3d3-421f-a534-b699d555212e"
      },
      "outputs": [
        {
          "output_type": "execute_result",
          "data": {
            "text/plain": [
              "target\n",
              "0    5708\n",
              "1    1792\n",
              "Name: count, dtype: int64"
            ]
          },
          "metadata": {},
          "execution_count": 5
        }
      ],
      "source": [
        "# Ваш код здесь\n",
        "Xtrain_without_null['target'].value_counts()"
      ]
    },
    {
      "cell_type": "markdown",
      "metadata": {
        "id": "xB_ReQ62tWct"
      },
      "source": [
        "### 3. Постройте baseline-модель:\n",
        "- разбейте TrainData на тренировочные (Train) и тестовые данные (Test);\n",
        "- обучите KNN, LogisticRegression и SVC с параметрами по умолчанию на тренировочных данных (Train);\n",
        "- примените модели на тестовых данных (Test) и вычислите значение метрики f1."
      ]
    },
    {
      "cell_type": "code",
      "execution_count": 6,
      "metadata": {
        "id": "WUfRVj5ctWcu",
        "colab": {
          "base_uri": "https://localhost:8080/"
        },
        "outputId": "6d0d496d-9ffa-4283-836d-690f9b9b0375"
      },
      "outputs": [
        {
          "output_type": "stream",
          "name": "stdout",
          "text": [
            "KNN f1 score = 0.3037974683544304\n",
            "Logistic Regression f1 score = 0.3677130044843049\n",
            "SVC f1 score = 0.08913649025069638\n"
          ]
        }
      ],
      "source": [
        "from sklearn.metrics import f1_score\n",
        "from sklearn.model_selection import train_test_split\n",
        "import warnings\n",
        "warnings.filterwarnings(\"ignore\")\n",
        "\n",
        "# Ваш код здесь\n",
        "train_x, test_x, train_y, test_y = train_test_split(Xtrain_without_null, Xtrain_without_null['target'], train_size=0.8, random_state=42)\n",
        "\n",
        "model_knn = KNeighborsClassifier()\n",
        "model_knn.fit(train_x, train_y)\n",
        "\n",
        "model_logreg = LogisticRegression()\n",
        "model_logreg.fit(train_x, train_y)\n",
        "\n",
        "model_svc = SVC()\n",
        "model_svc.fit(train_x, train_y)\n",
        "\n",
        "model_knn_pred = model_knn.predict(test_x)\n",
        "model_logreg_pred = model_logreg.predict(test_x)\n",
        "model_svc_pred = model_svc.predict(test_x)\n",
        "\n",
        "print(f'KNN f1 score = {f1_score(test_y, model_knn_pred)}')\n",
        "print(f'Logistic Regression f1 score = {f1_score(test_y, model_logreg_pred)}')\n",
        "print(f'SVC f1 score = {f1_score(test_y, model_svc_pred)}')"
      ]
    },
    {
      "cell_type": "markdown",
      "metadata": {
        "id": "KYQnr8CftWcv"
      },
      "source": [
        "### 4. Улучшите модели\n",
        "Попробуйте улучшить качество обученных моделей:\n",
        "- можете подбирать гиперпараметры моделей (лучше это делать по кросс-валидации на Train, то есть с помощью использования GridSearchCV на Train);\n",
        "- можете задавать class_weights;\n",
        "- можете вручную или при помощи методов Python генерировать новые признаки и/или удалять существующие.\n",
        "\n",
        "Это самая важная и творческая часть задания. Проводите как можно больше экспериментов!\n",
        "\n",
        "Проведите минимиум три эксперимента: для каждого типа модели минимум один эксперимент."
      ]
    },
    {
      "cell_type": "code",
      "execution_count": 13,
      "metadata": {
        "id": "ZJrKNIw8tWcw"
      },
      "outputs": [],
      "source": [
        "# Ваш код здесь\n",
        "from sklearn.model_selection import GridSearchCV\n",
        "from sklearn.model_selection import cross_val_score\n",
        "\n",
        "params_knn = {\n",
        "    'n_neighbors': [3, 5, 7, 9],\n",
        "    'weights': ['uniform', 'distance'],\n",
        "    'algorithm': ['auto', 'ball_tree', 'kd_tree'],\n",
        "    'leaf_size': [30, 35, 50, 40]\n",
        "}\n",
        "\n",
        "params_logreg = {\n",
        "    'penalty': ['l1', 'l2', 'elasticnet'],\n",
        "    'C': [0.01, 0.1, 1, 10, 100],\n",
        "    'solver': ['saga', 'liblinear', 'lbfgs']\n",
        "}\n",
        "\n",
        "grid_knn = GridSearchCV(KNeighborsClassifier(n_jobs=-1), param_grid=params_knn, cv=5, scoring='f1', n_jobs=-1)\n",
        "grid_logreg = GridSearchCV(LogisticRegression(max_iter=10_000, n_jobs=-1, class_weight='balanced'), param_grid=params_logreg, cv=5, scoring='f1', n_jobs=-1)"
      ]
    },
    {
      "cell_type": "code",
      "source": [
        "grid_knn.fit(train_x, train_y)"
      ],
      "metadata": {
        "colab": {
          "base_uri": "https://localhost:8080/",
          "height": 118
        },
        "id": "sXvOidKg2Lxz",
        "outputId": "41c7b46d-94ab-4d8b-fe44-a0455f4a346e"
      },
      "execution_count": 14,
      "outputs": [
        {
          "output_type": "execute_result",
          "data": {
            "text/plain": [
              "GridSearchCV(cv=5, estimator=KNeighborsClassifier(n_jobs=-1), n_jobs=-1,\n",
              "             param_grid={'algorithm': ['auto', 'ball_tree', 'kd_tree'],\n",
              "                         'leaf_size': [30, 35, 50, 40],\n",
              "                         'n_neighbors': [3, 5, 7, 9],\n",
              "                         'weights': ['uniform', 'distance']},\n",
              "             scoring='f1')"
            ],
            "text/html": [
              "<style>#sk-container-id-3 {color: black;background-color: white;}#sk-container-id-3 pre{padding: 0;}#sk-container-id-3 div.sk-toggleable {background-color: white;}#sk-container-id-3 label.sk-toggleable__label {cursor: pointer;display: block;width: 100%;margin-bottom: 0;padding: 0.3em;box-sizing: border-box;text-align: center;}#sk-container-id-3 label.sk-toggleable__label-arrow:before {content: \"▸\";float: left;margin-right: 0.25em;color: #696969;}#sk-container-id-3 label.sk-toggleable__label-arrow:hover:before {color: black;}#sk-container-id-3 div.sk-estimator:hover label.sk-toggleable__label-arrow:before {color: black;}#sk-container-id-3 div.sk-toggleable__content {max-height: 0;max-width: 0;overflow: hidden;text-align: left;background-color: #f0f8ff;}#sk-container-id-3 div.sk-toggleable__content pre {margin: 0.2em;color: black;border-radius: 0.25em;background-color: #f0f8ff;}#sk-container-id-3 input.sk-toggleable__control:checked~div.sk-toggleable__content {max-height: 200px;max-width: 100%;overflow: auto;}#sk-container-id-3 input.sk-toggleable__control:checked~label.sk-toggleable__label-arrow:before {content: \"▾\";}#sk-container-id-3 div.sk-estimator input.sk-toggleable__control:checked~label.sk-toggleable__label {background-color: #d4ebff;}#sk-container-id-3 div.sk-label input.sk-toggleable__control:checked~label.sk-toggleable__label {background-color: #d4ebff;}#sk-container-id-3 input.sk-hidden--visually {border: 0;clip: rect(1px 1px 1px 1px);clip: rect(1px, 1px, 1px, 1px);height: 1px;margin: -1px;overflow: hidden;padding: 0;position: absolute;width: 1px;}#sk-container-id-3 div.sk-estimator {font-family: monospace;background-color: #f0f8ff;border: 1px dotted black;border-radius: 0.25em;box-sizing: border-box;margin-bottom: 0.5em;}#sk-container-id-3 div.sk-estimator:hover {background-color: #d4ebff;}#sk-container-id-3 div.sk-parallel-item::after {content: \"\";width: 100%;border-bottom: 1px solid gray;flex-grow: 1;}#sk-container-id-3 div.sk-label:hover label.sk-toggleable__label {background-color: #d4ebff;}#sk-container-id-3 div.sk-serial::before {content: \"\";position: absolute;border-left: 1px solid gray;box-sizing: border-box;top: 0;bottom: 0;left: 50%;z-index: 0;}#sk-container-id-3 div.sk-serial {display: flex;flex-direction: column;align-items: center;background-color: white;padding-right: 0.2em;padding-left: 0.2em;position: relative;}#sk-container-id-3 div.sk-item {position: relative;z-index: 1;}#sk-container-id-3 div.sk-parallel {display: flex;align-items: stretch;justify-content: center;background-color: white;position: relative;}#sk-container-id-3 div.sk-item::before, #sk-container-id-3 div.sk-parallel-item::before {content: \"\";position: absolute;border-left: 1px solid gray;box-sizing: border-box;top: 0;bottom: 0;left: 50%;z-index: -1;}#sk-container-id-3 div.sk-parallel-item {display: flex;flex-direction: column;z-index: 1;position: relative;background-color: white;}#sk-container-id-3 div.sk-parallel-item:first-child::after {align-self: flex-end;width: 50%;}#sk-container-id-3 div.sk-parallel-item:last-child::after {align-self: flex-start;width: 50%;}#sk-container-id-3 div.sk-parallel-item:only-child::after {width: 0;}#sk-container-id-3 div.sk-dashed-wrapped {border: 1px dashed gray;margin: 0 0.4em 0.5em 0.4em;box-sizing: border-box;padding-bottom: 0.4em;background-color: white;}#sk-container-id-3 div.sk-label label {font-family: monospace;font-weight: bold;display: inline-block;line-height: 1.2em;}#sk-container-id-3 div.sk-label-container {text-align: center;}#sk-container-id-3 div.sk-container {/* jupyter's `normalize.less` sets `[hidden] { display: none; }` but bootstrap.min.css set `[hidden] { display: none !important; }` so we also need the `!important` here to be able to override the default hidden behavior on the sphinx rendered scikit-learn.org. See: https://github.com/scikit-learn/scikit-learn/issues/21755 */display: inline-block !important;position: relative;}#sk-container-id-3 div.sk-text-repr-fallback {display: none;}</style><div id=\"sk-container-id-3\" class=\"sk-top-container\"><div class=\"sk-text-repr-fallback\"><pre>GridSearchCV(cv=5, estimator=KNeighborsClassifier(n_jobs=-1), n_jobs=-1,\n",
              "             param_grid={&#x27;algorithm&#x27;: [&#x27;auto&#x27;, &#x27;ball_tree&#x27;, &#x27;kd_tree&#x27;],\n",
              "                         &#x27;leaf_size&#x27;: [30, 35, 50, 40],\n",
              "                         &#x27;n_neighbors&#x27;: [3, 5, 7, 9],\n",
              "                         &#x27;weights&#x27;: [&#x27;uniform&#x27;, &#x27;distance&#x27;]},\n",
              "             scoring=&#x27;f1&#x27;)</pre><b>In a Jupyter environment, please rerun this cell to show the HTML representation or trust the notebook. <br />On GitHub, the HTML representation is unable to render, please try loading this page with nbviewer.org.</b></div><div class=\"sk-container\" hidden><div class=\"sk-item sk-dashed-wrapped\"><div class=\"sk-label-container\"><div class=\"sk-label sk-toggleable\"><input class=\"sk-toggleable__control sk-hidden--visually\" id=\"sk-estimator-id-7\" type=\"checkbox\" ><label for=\"sk-estimator-id-7\" class=\"sk-toggleable__label sk-toggleable__label-arrow\">GridSearchCV</label><div class=\"sk-toggleable__content\"><pre>GridSearchCV(cv=5, estimator=KNeighborsClassifier(n_jobs=-1), n_jobs=-1,\n",
              "             param_grid={&#x27;algorithm&#x27;: [&#x27;auto&#x27;, &#x27;ball_tree&#x27;, &#x27;kd_tree&#x27;],\n",
              "                         &#x27;leaf_size&#x27;: [30, 35, 50, 40],\n",
              "                         &#x27;n_neighbors&#x27;: [3, 5, 7, 9],\n",
              "                         &#x27;weights&#x27;: [&#x27;uniform&#x27;, &#x27;distance&#x27;]},\n",
              "             scoring=&#x27;f1&#x27;)</pre></div></div></div><div class=\"sk-parallel\"><div class=\"sk-parallel-item\"><div class=\"sk-item\"><div class=\"sk-label-container\"><div class=\"sk-label sk-toggleable\"><input class=\"sk-toggleable__control sk-hidden--visually\" id=\"sk-estimator-id-8\" type=\"checkbox\" ><label for=\"sk-estimator-id-8\" class=\"sk-toggleable__label sk-toggleable__label-arrow\">estimator: KNeighborsClassifier</label><div class=\"sk-toggleable__content\"><pre>KNeighborsClassifier(n_jobs=-1)</pre></div></div></div><div class=\"sk-serial\"><div class=\"sk-item\"><div class=\"sk-estimator sk-toggleable\"><input class=\"sk-toggleable__control sk-hidden--visually\" id=\"sk-estimator-id-9\" type=\"checkbox\" ><label for=\"sk-estimator-id-9\" class=\"sk-toggleable__label sk-toggleable__label-arrow\">KNeighborsClassifier</label><div class=\"sk-toggleable__content\"><pre>KNeighborsClassifier(n_jobs=-1)</pre></div></div></div></div></div></div></div></div></div></div>"
            ]
          },
          "metadata": {},
          "execution_count": 14
        }
      ]
    },
    {
      "cell_type": "code",
      "source": [
        "grid_logreg.fit(train_x, train_y)"
      ],
      "metadata": {
        "colab": {
          "base_uri": "https://localhost:8080/",
          "height": 118
        },
        "id": "2uUQUNDL2MsB",
        "outputId": "f13c2ed8-a6fc-4a9a-a18b-da5faee7d858"
      },
      "execution_count": 15,
      "outputs": [
        {
          "output_type": "execute_result",
          "data": {
            "text/plain": [
              "GridSearchCV(cv=5,\n",
              "             estimator=LogisticRegression(class_weight='balanced',\n",
              "                                          max_iter=10000, n_jobs=-1),\n",
              "             n_jobs=-1,\n",
              "             param_grid={'C': [0.01, 0.1, 1, 10, 100],\n",
              "                         'penalty': ['l1', 'l2', 'elasticnet'],\n",
              "                         'solver': ['saga', 'liblinear', 'lbfgs']},\n",
              "             scoring='f1')"
            ],
            "text/html": [
              "<style>#sk-container-id-4 {color: black;background-color: white;}#sk-container-id-4 pre{padding: 0;}#sk-container-id-4 div.sk-toggleable {background-color: white;}#sk-container-id-4 label.sk-toggleable__label {cursor: pointer;display: block;width: 100%;margin-bottom: 0;padding: 0.3em;box-sizing: border-box;text-align: center;}#sk-container-id-4 label.sk-toggleable__label-arrow:before {content: \"▸\";float: left;margin-right: 0.25em;color: #696969;}#sk-container-id-4 label.sk-toggleable__label-arrow:hover:before {color: black;}#sk-container-id-4 div.sk-estimator:hover label.sk-toggleable__label-arrow:before {color: black;}#sk-container-id-4 div.sk-toggleable__content {max-height: 0;max-width: 0;overflow: hidden;text-align: left;background-color: #f0f8ff;}#sk-container-id-4 div.sk-toggleable__content pre {margin: 0.2em;color: black;border-radius: 0.25em;background-color: #f0f8ff;}#sk-container-id-4 input.sk-toggleable__control:checked~div.sk-toggleable__content {max-height: 200px;max-width: 100%;overflow: auto;}#sk-container-id-4 input.sk-toggleable__control:checked~label.sk-toggleable__label-arrow:before {content: \"▾\";}#sk-container-id-4 div.sk-estimator input.sk-toggleable__control:checked~label.sk-toggleable__label {background-color: #d4ebff;}#sk-container-id-4 div.sk-label input.sk-toggleable__control:checked~label.sk-toggleable__label {background-color: #d4ebff;}#sk-container-id-4 input.sk-hidden--visually {border: 0;clip: rect(1px 1px 1px 1px);clip: rect(1px, 1px, 1px, 1px);height: 1px;margin: -1px;overflow: hidden;padding: 0;position: absolute;width: 1px;}#sk-container-id-4 div.sk-estimator {font-family: monospace;background-color: #f0f8ff;border: 1px dotted black;border-radius: 0.25em;box-sizing: border-box;margin-bottom: 0.5em;}#sk-container-id-4 div.sk-estimator:hover {background-color: #d4ebff;}#sk-container-id-4 div.sk-parallel-item::after {content: \"\";width: 100%;border-bottom: 1px solid gray;flex-grow: 1;}#sk-container-id-4 div.sk-label:hover label.sk-toggleable__label {background-color: #d4ebff;}#sk-container-id-4 div.sk-serial::before {content: \"\";position: absolute;border-left: 1px solid gray;box-sizing: border-box;top: 0;bottom: 0;left: 50%;z-index: 0;}#sk-container-id-4 div.sk-serial {display: flex;flex-direction: column;align-items: center;background-color: white;padding-right: 0.2em;padding-left: 0.2em;position: relative;}#sk-container-id-4 div.sk-item {position: relative;z-index: 1;}#sk-container-id-4 div.sk-parallel {display: flex;align-items: stretch;justify-content: center;background-color: white;position: relative;}#sk-container-id-4 div.sk-item::before, #sk-container-id-4 div.sk-parallel-item::before {content: \"\";position: absolute;border-left: 1px solid gray;box-sizing: border-box;top: 0;bottom: 0;left: 50%;z-index: -1;}#sk-container-id-4 div.sk-parallel-item {display: flex;flex-direction: column;z-index: 1;position: relative;background-color: white;}#sk-container-id-4 div.sk-parallel-item:first-child::after {align-self: flex-end;width: 50%;}#sk-container-id-4 div.sk-parallel-item:last-child::after {align-self: flex-start;width: 50%;}#sk-container-id-4 div.sk-parallel-item:only-child::after {width: 0;}#sk-container-id-4 div.sk-dashed-wrapped {border: 1px dashed gray;margin: 0 0.4em 0.5em 0.4em;box-sizing: border-box;padding-bottom: 0.4em;background-color: white;}#sk-container-id-4 div.sk-label label {font-family: monospace;font-weight: bold;display: inline-block;line-height: 1.2em;}#sk-container-id-4 div.sk-label-container {text-align: center;}#sk-container-id-4 div.sk-container {/* jupyter's `normalize.less` sets `[hidden] { display: none; }` but bootstrap.min.css set `[hidden] { display: none !important; }` so we also need the `!important` here to be able to override the default hidden behavior on the sphinx rendered scikit-learn.org. See: https://github.com/scikit-learn/scikit-learn/issues/21755 */display: inline-block !important;position: relative;}#sk-container-id-4 div.sk-text-repr-fallback {display: none;}</style><div id=\"sk-container-id-4\" class=\"sk-top-container\"><div class=\"sk-text-repr-fallback\"><pre>GridSearchCV(cv=5,\n",
              "             estimator=LogisticRegression(class_weight=&#x27;balanced&#x27;,\n",
              "                                          max_iter=10000, n_jobs=-1),\n",
              "             n_jobs=-1,\n",
              "             param_grid={&#x27;C&#x27;: [0.01, 0.1, 1, 10, 100],\n",
              "                         &#x27;penalty&#x27;: [&#x27;l1&#x27;, &#x27;l2&#x27;, &#x27;elasticnet&#x27;],\n",
              "                         &#x27;solver&#x27;: [&#x27;saga&#x27;, &#x27;liblinear&#x27;, &#x27;lbfgs&#x27;]},\n",
              "             scoring=&#x27;f1&#x27;)</pre><b>In a Jupyter environment, please rerun this cell to show the HTML representation or trust the notebook. <br />On GitHub, the HTML representation is unable to render, please try loading this page with nbviewer.org.</b></div><div class=\"sk-container\" hidden><div class=\"sk-item sk-dashed-wrapped\"><div class=\"sk-label-container\"><div class=\"sk-label sk-toggleable\"><input class=\"sk-toggleable__control sk-hidden--visually\" id=\"sk-estimator-id-10\" type=\"checkbox\" ><label for=\"sk-estimator-id-10\" class=\"sk-toggleable__label sk-toggleable__label-arrow\">GridSearchCV</label><div class=\"sk-toggleable__content\"><pre>GridSearchCV(cv=5,\n",
              "             estimator=LogisticRegression(class_weight=&#x27;balanced&#x27;,\n",
              "                                          max_iter=10000, n_jobs=-1),\n",
              "             n_jobs=-1,\n",
              "             param_grid={&#x27;C&#x27;: [0.01, 0.1, 1, 10, 100],\n",
              "                         &#x27;penalty&#x27;: [&#x27;l1&#x27;, &#x27;l2&#x27;, &#x27;elasticnet&#x27;],\n",
              "                         &#x27;solver&#x27;: [&#x27;saga&#x27;, &#x27;liblinear&#x27;, &#x27;lbfgs&#x27;]},\n",
              "             scoring=&#x27;f1&#x27;)</pre></div></div></div><div class=\"sk-parallel\"><div class=\"sk-parallel-item\"><div class=\"sk-item\"><div class=\"sk-label-container\"><div class=\"sk-label sk-toggleable\"><input class=\"sk-toggleable__control sk-hidden--visually\" id=\"sk-estimator-id-11\" type=\"checkbox\" ><label for=\"sk-estimator-id-11\" class=\"sk-toggleable__label sk-toggleable__label-arrow\">estimator: LogisticRegression</label><div class=\"sk-toggleable__content\"><pre>LogisticRegression(class_weight=&#x27;balanced&#x27;, max_iter=10000, n_jobs=-1)</pre></div></div></div><div class=\"sk-serial\"><div class=\"sk-item\"><div class=\"sk-estimator sk-toggleable\"><input class=\"sk-toggleable__control sk-hidden--visually\" id=\"sk-estimator-id-12\" type=\"checkbox\" ><label for=\"sk-estimator-id-12\" class=\"sk-toggleable__label sk-toggleable__label-arrow\">LogisticRegression</label><div class=\"sk-toggleable__content\"><pre>LogisticRegression(class_weight=&#x27;balanced&#x27;, max_iter=10000, n_jobs=-1)</pre></div></div></div></div></div></div></div></div></div></div>"
            ]
          },
          "metadata": {},
          "execution_count": 15
        }
      ]
    },
    {
      "cell_type": "code",
      "source": [
        "for C in [0.01, 0.1, 1, 10, 100]:\n",
        "  for kernel in ['sigmoid', 'poly', 'rbf']:\n",
        "    for gamma in ['scale', 'auto']:\n",
        "      model_svc = SVC(class_weight='balanced', C=C, kernel=kernel, gamma=gamma)\n",
        "      model_svc.fit(train_x, train_y)\n",
        "      model_svc_pred = model_svc.predict(test_x)\n",
        "      print(f'C = {C} | kernel = {kernel} | gamma = {gamma} | Score = {f1_score(test_y, model_svc_pred)}')\n",
        "  print('\\n')"
      ],
      "metadata": {
        "id": "dVsogN9LVcZ5"
      },
      "execution_count": null,
      "outputs": []
    },
    {
      "cell_type": "code",
      "source": [
        "knn_best_params = grid_knn.best_params_\n",
        "\n",
        "logreg_best_params = grid_logreg.best_params_"
      ],
      "metadata": {
        "id": "16mqQKH-VTYJ"
      },
      "execution_count": null,
      "outputs": []
    },
    {
      "cell_type": "code",
      "source": [
        "print(f'KNN params: {knn_best_params} | Score: {grid_knn.best_score_}')\n",
        "print(f'Logistic Regression params: {logreg_best_params} | Score: {grid_logreg.best_score_}')"
      ],
      "metadata": {
        "id": "7MAjgmrAVTGq"
      },
      "execution_count": null,
      "outputs": []
    },
    {
      "cell_type": "markdown",
      "metadata": {
        "id": "yfu3yy_7tWcy"
      },
      "source": [
        "### 5. Оцените на отложенной выборке качество наилучшей модели\n",
        "В пунктах 3 и 4 вы построили много разных моделей.\n",
        "\n",
        "Возьмите ту, которая дала наилучшее качество на тестовых данных (Test). Примените её на отложенной выборке (TestData) и выведите на экран значение метрики f1."
      ]
    },
    {
      "cell_type": "code",
      "execution_count": null,
      "metadata": {
        "id": "upHUOfrktWcy"
      },
      "outputs": [],
      "source": [
        "# Ваш код здесь"
      ]
    },
    {
      "cell_type": "markdown",
      "metadata": {
        "id": "YZT0rMuStWcz"
      },
      "source": [
        "### 6. Выполните хитрый трюк\n",
        "Часто смешивание различных моделей даёт улучшение итогового предсказания. Попробуйте смешать две лучшие модели по формуле:\n",
        "$$pred_{final} = \\alpha\\cdot pred_1 + (1-\\alpha)\\cdot pred_2$$.\n",
        "\n",
        "Значение $\\alpha$ подберите в цикле по Test-выборке. Оцените качество на отложенной выборке.\n",
        "\n",
        "Удалось ли добиться улучшения качества?"
      ]
    },
    {
      "cell_type": "code",
      "execution_count": null,
      "metadata": {
        "id": "3DdSsk6gtWc7"
      },
      "outputs": [],
      "source": [
        "# Ваш код здесь"
      ]
    },
    {
      "cell_type": "markdown",
      "metadata": {
        "id": "9b9imFkLtWc8"
      },
      "source": [
        "### 7. Сделайте выводы\n",
        "\n",
        "Запишите в отдельной ячейке текстом выводы о проделанной работе. Для этого ответьте на вопросы:\n",
        "- Какие подходы вы использовали для улучшения работы baseline-моделей?\n",
        "- Какого максимального качества удалось добиться на Test-данных?\n",
        "- Какое при этом получилось качество на отложенной выборке?\n",
        "- Ваша модель переобучилась, недообучилась или обучилась как надо?"
      ]
    },
    {
      "cell_type": "code",
      "execution_count": null,
      "metadata": {
        "id": "wWgT4ulytWc-"
      },
      "outputs": [],
      "source": [
        "# Ваш текст здесь"
      ]
    },
    {
      "cell_type": "markdown",
      "metadata": {
        "id": "cnFjm55atWc-"
      },
      "source": [
        "Важный комментарий! В реальных задачах не следует ожидать, что машинным обучением всегда удастся решить задачу с хорошим качеством. Но использовать все имеющиеся у вас в арсенале методы для достижения наилучшего результата нужно."
      ]
    }
  ],
  "metadata": {
    "kernelspec": {
      "display_name": "Python 3",
      "language": "python",
      "name": "python3"
    },
    "language_info": {
      "codemirror_mode": {
        "name": "ipython",
        "version": 3
      },
      "file_extension": ".py",
      "mimetype": "text/x-python",
      "name": "python",
      "nbconvert_exporter": "python",
      "pygments_lexer": "ipython3",
      "version": "3.7.6"
    },
    "colab": {
      "provenance": [],
      "include_colab_link": true
    }
  },
  "nbformat": 4,
  "nbformat_minor": 0
}