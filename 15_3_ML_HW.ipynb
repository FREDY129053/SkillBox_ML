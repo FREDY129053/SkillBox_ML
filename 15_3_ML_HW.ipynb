{
  "cells": [
    {
      "cell_type": "markdown",
      "metadata": {
        "id": "view-in-github",
        "colab_type": "text"
      },
      "source": [
        "<a href=\"https://colab.research.google.com/github/FREDY129053/SkillBox_ML/blob/main/15_3_ML_HW.ipynb\" target=\"_parent\"><img src=\"https://colab.research.google.com/assets/colab-badge.svg\" alt=\"Open In Colab\"/></a>"
      ]
    },
    {
      "cell_type": "markdown",
      "metadata": {
        "id": "jw3gjRYGckye"
      },
      "source": [
        "# DBSCAN. Практическая работа"
      ]
    },
    {
      "cell_type": "markdown",
      "metadata": {
        "id": "gYTtMhOfcqWt"
      },
      "source": [
        "## Цель практической работы\n",
        "\n",
        "Научиться строить модели кластеризации с помощью метода DBSCAN."
      ]
    },
    {
      "cell_type": "markdown",
      "metadata": {
        "id": "TpO6VKNuc5nB"
      },
      "source": [
        "## Что входит в работу\n",
        "\n",
        "\n",
        "- Загрузите данные и проведите разведочный анализ.\n",
        "- Предположите оптимальное количество кластеров.\n",
        "- Постройте модель кластеризации DBSCAN.\n",
        "- Определите оптимальное количество и структуру кластеров.\n",
        "- Интерпретируйте полученные результаты."
      ]
    },
    {
      "cell_type": "markdown",
      "metadata": {
        "id": "eIRmNEw4jgHZ"
      },
      "source": [
        "## Что оценивается\n",
        "\n",
        "1. Выполнены все задания.\n",
        "2. Сделаны выводы по результатам разведочного анализа данных.\n",
        "3. Объяснены выбранные гиперпараметры модели кластеризации.\n",
        "4. Сделаны выводы о количестве и структуре кластеров.\n",
        "5. Сделаны выводы по результатам кластеризации."
      ]
    },
    {
      "cell_type": "markdown",
      "metadata": {
        "id": "l_r3FWq5stYV"
      },
      "source": [
        "# Задача\n",
        "\n",
        "Имеется некоторый набор данных `gt_2015.csv` о производительности и других параметрах ветряных электростанций:\n",
        "* AT — температура окружающей среды.\n",
        "* PT — давление окружающей среды.\n",
        "* AH — влажность окружающей среды.\n",
        "* AFDP — перепад давления на воздушном фильтре.\n",
        "* GTEP — давление на выходе из газовой турбины.\n",
        "* TIT — температура на входе в турбину.\n",
        "* TAT — температура на выходе из турбины.\n",
        "* TEY — энергоотдача турбины.\n",
        "* CDP — давление нагнетания компрессора.\n",
        "* CO — выбросы угарного газа.\n",
        "* NOX — выбросы оксидов азота.\n",
        "\n",
        "Решите задачу кластеризации электростанций для дальнейшего совместного управления схожими электростанциями."
      ]
    },
    {
      "cell_type": "markdown",
      "metadata": {
        "id": "kFnV9Li-s7rq"
      },
      "source": [
        "# Задание 1\n",
        "\n",
        "Загрузите датасет и выполните разведочный анализ данных. Сделайте выводы о найденных закономерностях, особенностях и других свойствах данных, которые вы обнаружите."
      ]
    },
    {
      "cell_type": "code",
      "execution_count": null,
      "metadata": {
        "id": "6Q8bI4HH4nVj",
        "outputId": "63ac3686-1829-4ee2-e706-49d3b6194ce0"
      },
      "outputs": [
        {
          "data": {
            "text/html": [
              "<div>\n",
              "<style scoped>\n",
              "    .dataframe tbody tr th:only-of-type {\n",
              "        vertical-align: middle;\n",
              "    }\n",
              "\n",
              "    .dataframe tbody tr th {\n",
              "        vertical-align: top;\n",
              "    }\n",
              "\n",
              "    .dataframe thead th {\n",
              "        text-align: right;\n",
              "    }\n",
              "</style>\n",
              "<table border=\"1\" class=\"dataframe\">\n",
              "  <thead>\n",
              "    <tr style=\"text-align: right;\">\n",
              "      <th></th>\n",
              "      <th>AT</th>\n",
              "      <th>AP</th>\n",
              "      <th>AH</th>\n",
              "      <th>AFDP</th>\n",
              "      <th>GTEP</th>\n",
              "      <th>TIT</th>\n",
              "      <th>TAT</th>\n",
              "      <th>TEY</th>\n",
              "      <th>CDP</th>\n",
              "      <th>CO</th>\n",
              "      <th>NOX</th>\n",
              "    </tr>\n",
              "  </thead>\n",
              "  <tbody>\n",
              "    <tr>\n",
              "      <th>0</th>\n",
              "      <td>1.95320</td>\n",
              "      <td>1020.1</td>\n",
              "      <td>84.985</td>\n",
              "      <td>2.5304</td>\n",
              "      <td>20.116</td>\n",
              "      <td>1048.7</td>\n",
              "      <td>544.92</td>\n",
              "      <td>116.27</td>\n",
              "      <td>10.799</td>\n",
              "      <td>7.4491</td>\n",
              "      <td>113.250</td>\n",
              "    </tr>\n",
              "    <tr>\n",
              "      <th>1</th>\n",
              "      <td>1.21910</td>\n",
              "      <td>1020.1</td>\n",
              "      <td>87.523</td>\n",
              "      <td>2.3937</td>\n",
              "      <td>18.584</td>\n",
              "      <td>1045.5</td>\n",
              "      <td>548.50</td>\n",
              "      <td>109.18</td>\n",
              "      <td>10.347</td>\n",
              "      <td>6.4684</td>\n",
              "      <td>112.020</td>\n",
              "    </tr>\n",
              "    <tr>\n",
              "      <th>2</th>\n",
              "      <td>0.94915</td>\n",
              "      <td>1022.2</td>\n",
              "      <td>78.335</td>\n",
              "      <td>2.7789</td>\n",
              "      <td>22.264</td>\n",
              "      <td>1068.8</td>\n",
              "      <td>549.95</td>\n",
              "      <td>125.88</td>\n",
              "      <td>11.256</td>\n",
              "      <td>3.6335</td>\n",
              "      <td>88.147</td>\n",
              "    </tr>\n",
              "    <tr>\n",
              "      <th>3</th>\n",
              "      <td>1.00750</td>\n",
              "      <td>1021.7</td>\n",
              "      <td>76.942</td>\n",
              "      <td>2.8170</td>\n",
              "      <td>23.358</td>\n",
              "      <td>1075.2</td>\n",
              "      <td>549.63</td>\n",
              "      <td>132.21</td>\n",
              "      <td>11.702</td>\n",
              "      <td>3.1972</td>\n",
              "      <td>87.078</td>\n",
              "    </tr>\n",
              "    <tr>\n",
              "      <th>4</th>\n",
              "      <td>1.28580</td>\n",
              "      <td>1021.6</td>\n",
              "      <td>76.732</td>\n",
              "      <td>2.8377</td>\n",
              "      <td>23.483</td>\n",
              "      <td>1076.2</td>\n",
              "      <td>549.68</td>\n",
              "      <td>133.58</td>\n",
              "      <td>11.737</td>\n",
              "      <td>2.3833</td>\n",
              "      <td>82.515</td>\n",
              "    </tr>\n",
              "  </tbody>\n",
              "</table>\n",
              "</div>"
            ],
            "text/plain": [
              "        AT      AP      AH    AFDP    GTEP     TIT     TAT     TEY     CDP  \\\n",
              "0  1.95320  1020.1  84.985  2.5304  20.116  1048.7  544.92  116.27  10.799   \n",
              "1  1.21910  1020.1  87.523  2.3937  18.584  1045.5  548.50  109.18  10.347   \n",
              "2  0.94915  1022.2  78.335  2.7789  22.264  1068.8  549.95  125.88  11.256   \n",
              "3  1.00750  1021.7  76.942  2.8170  23.358  1075.2  549.63  132.21  11.702   \n",
              "4  1.28580  1021.6  76.732  2.8377  23.483  1076.2  549.68  133.58  11.737   \n",
              "\n",
              "       CO      NOX  \n",
              "0  7.4491  113.250  \n",
              "1  6.4684  112.020  \n",
              "2  3.6335   88.147  \n",
              "3  3.1972   87.078  \n",
              "4  2.3833   82.515  "
            ]
          },
          "execution_count": 75,
          "metadata": {},
          "output_type": "execute_result"
        }
      ],
      "source": [
        "import pandas as pd\n",
        "import numpy as np\n",
        "\n",
        "df = pd.read_csv('gt_2015.csv')\n",
        "df.head()"
      ]
    },
    {
      "cell_type": "code",
      "execution_count": null,
      "metadata": {
        "id": "q0szRozK_rdH",
        "outputId": "87097049-fca6-40ed-c5cb-6ee698188600"
      },
      "outputs": [
        {
          "data": {
            "text/html": [
              "<div>\n",
              "<style scoped>\n",
              "    .dataframe tbody tr th:only-of-type {\n",
              "        vertical-align: middle;\n",
              "    }\n",
              "\n",
              "    .dataframe tbody tr th {\n",
              "        vertical-align: top;\n",
              "    }\n",
              "\n",
              "    .dataframe thead th {\n",
              "        text-align: right;\n",
              "    }\n",
              "</style>\n",
              "<table border=\"1\" class=\"dataframe\">\n",
              "  <thead>\n",
              "    <tr style=\"text-align: right;\">\n",
              "      <th></th>\n",
              "      <th>AT</th>\n",
              "      <th>AP</th>\n",
              "      <th>AH</th>\n",
              "      <th>AFDP</th>\n",
              "      <th>GTEP</th>\n",
              "      <th>TIT</th>\n",
              "      <th>TAT</th>\n",
              "      <th>TEY</th>\n",
              "      <th>CDP</th>\n",
              "      <th>CO</th>\n",
              "      <th>NOX</th>\n",
              "    </tr>\n",
              "  </thead>\n",
              "  <tbody>\n",
              "    <tr>\n",
              "      <th>count</th>\n",
              "      <td>7384.000000</td>\n",
              "      <td>7384.00000</td>\n",
              "      <td>7384.000000</td>\n",
              "      <td>7384.000000</td>\n",
              "      <td>7384.000000</td>\n",
              "      <td>7384.000000</td>\n",
              "      <td>7384.000000</td>\n",
              "      <td>7384.000000</td>\n",
              "      <td>7384.000000</td>\n",
              "      <td>7384.000000</td>\n",
              "      <td>7384.000000</td>\n",
              "    </tr>\n",
              "    <tr>\n",
              "      <th>mean</th>\n",
              "      <td>17.225259</td>\n",
              "      <td>1014.50911</td>\n",
              "      <td>68.647464</td>\n",
              "      <td>3.598909</td>\n",
              "      <td>26.130149</td>\n",
              "      <td>1078.974689</td>\n",
              "      <td>546.642484</td>\n",
              "      <td>133.993380</td>\n",
              "      <td>12.097025</td>\n",
              "      <td>3.129986</td>\n",
              "      <td>59.890509</td>\n",
              "    </tr>\n",
              "    <tr>\n",
              "      <th>std</th>\n",
              "      <td>8.095783</td>\n",
              "      <td>6.89543</td>\n",
              "      <td>13.541116</td>\n",
              "      <td>0.610226</td>\n",
              "      <td>4.473737</td>\n",
              "      <td>19.762449</td>\n",
              "      <td>5.489066</td>\n",
              "      <td>16.179208</td>\n",
              "      <td>1.136601</td>\n",
              "      <td>2.234962</td>\n",
              "      <td>11.132464</td>\n",
              "    </tr>\n",
              "    <tr>\n",
              "      <th>min</th>\n",
              "      <td>-6.234800</td>\n",
              "      <td>989.40000</td>\n",
              "      <td>24.085000</td>\n",
              "      <td>2.368800</td>\n",
              "      <td>17.698000</td>\n",
              "      <td>1016.000000</td>\n",
              "      <td>516.040000</td>\n",
              "      <td>100.020000</td>\n",
              "      <td>9.870800</td>\n",
              "      <td>0.212800</td>\n",
              "      <td>25.905000</td>\n",
              "    </tr>\n",
              "    <tr>\n",
              "      <th>25%</th>\n",
              "      <td>11.073250</td>\n",
              "      <td>1009.67500</td>\n",
              "      <td>59.447250</td>\n",
              "      <td>3.117300</td>\n",
              "      <td>23.147000</td>\n",
              "      <td>1070.500000</td>\n",
              "      <td>544.747500</td>\n",
              "      <td>126.255000</td>\n",
              "      <td>11.465750</td>\n",
              "      <td>1.808175</td>\n",
              "      <td>52.399000</td>\n",
              "    </tr>\n",
              "    <tr>\n",
              "      <th>50%</th>\n",
              "      <td>17.456500</td>\n",
              "      <td>1014.00000</td>\n",
              "      <td>70.952000</td>\n",
              "      <td>3.538500</td>\n",
              "      <td>25.331000</td>\n",
              "      <td>1080.300000</td>\n",
              "      <td>549.720000</td>\n",
              "      <td>131.600000</td>\n",
              "      <td>11.933000</td>\n",
              "      <td>2.533400</td>\n",
              "      <td>56.838500</td>\n",
              "    </tr>\n",
              "    <tr>\n",
              "      <th>75%</th>\n",
              "      <td>23.684750</td>\n",
              "      <td>1018.30000</td>\n",
              "      <td>79.653750</td>\n",
              "      <td>4.194825</td>\n",
              "      <td>30.018250</td>\n",
              "      <td>1099.900000</td>\n",
              "      <td>550.030000</td>\n",
              "      <td>147.160000</td>\n",
              "      <td>13.148000</td>\n",
              "      <td>3.702550</td>\n",
              "      <td>65.093250</td>\n",
              "    </tr>\n",
              "    <tr>\n",
              "      <th>max</th>\n",
              "      <td>37.103000</td>\n",
              "      <td>1036.60000</td>\n",
              "      <td>96.666000</td>\n",
              "      <td>5.239500</td>\n",
              "      <td>40.716000</td>\n",
              "      <td>1100.400000</td>\n",
              "      <td>550.590000</td>\n",
              "      <td>179.500000</td>\n",
              "      <td>15.159000</td>\n",
              "      <td>41.097000</td>\n",
              "      <td>119.680000</td>\n",
              "    </tr>\n",
              "  </tbody>\n",
              "</table>\n",
              "</div>"
            ],
            "text/plain": [
              "                AT          AP           AH         AFDP         GTEP  \\\n",
              "count  7384.000000  7384.00000  7384.000000  7384.000000  7384.000000   \n",
              "mean     17.225259  1014.50911    68.647464     3.598909    26.130149   \n",
              "std       8.095783     6.89543    13.541116     0.610226     4.473737   \n",
              "min      -6.234800   989.40000    24.085000     2.368800    17.698000   \n",
              "25%      11.073250  1009.67500    59.447250     3.117300    23.147000   \n",
              "50%      17.456500  1014.00000    70.952000     3.538500    25.331000   \n",
              "75%      23.684750  1018.30000    79.653750     4.194825    30.018250   \n",
              "max      37.103000  1036.60000    96.666000     5.239500    40.716000   \n",
              "\n",
              "               TIT          TAT          TEY          CDP           CO  \\\n",
              "count  7384.000000  7384.000000  7384.000000  7384.000000  7384.000000   \n",
              "mean   1078.974689   546.642484   133.993380    12.097025     3.129986   \n",
              "std      19.762449     5.489066    16.179208     1.136601     2.234962   \n",
              "min    1016.000000   516.040000   100.020000     9.870800     0.212800   \n",
              "25%    1070.500000   544.747500   126.255000    11.465750     1.808175   \n",
              "50%    1080.300000   549.720000   131.600000    11.933000     2.533400   \n",
              "75%    1099.900000   550.030000   147.160000    13.148000     3.702550   \n",
              "max    1100.400000   550.590000   179.500000    15.159000    41.097000   \n",
              "\n",
              "               NOX  \n",
              "count  7384.000000  \n",
              "mean     59.890509  \n",
              "std      11.132464  \n",
              "min      25.905000  \n",
              "25%      52.399000  \n",
              "50%      56.838500  \n",
              "75%      65.093250  \n",
              "max     119.680000  "
            ]
          },
          "execution_count": 76,
          "metadata": {},
          "output_type": "execute_result"
        }
      ],
      "source": [
        "df.describe()"
      ]
    },
    {
      "cell_type": "markdown",
      "metadata": {
        "id": "gm5t-Xjpyw1I"
      },
      "source": [
        "# Задание 2\n",
        "\n",
        "Предположите по результатам разведочного анализа данных, какие группы электростанций существуют, чем они отличаются, каково их количество."
      ]
    },
    {
      "cell_type": "code",
      "execution_count": null,
      "metadata": {
        "id": "C_EAZXIG_rdI"
      },
      "outputs": [],
      "source": [
        "from sklearn.preprocessing import StandardScaler\n",
        "scaler = StandardScaler()\n",
        "df_scaled = pd.DataFrame(scaler.fit_transform(df), columns=df.columns)"
      ]
    },
    {
      "cell_type": "code",
      "execution_count": null,
      "metadata": {
        "id": "nB1d5R3l_rdI",
        "outputId": "8f5f4f7d-0955-402d-8310-a1fb6a6f62c2"
      },
      "outputs": [
        {
          "data": {
            "text/plain": [
              "AT         AP         AH         AFDP       GTEP       TIT        TAT        TEY        CDP        CO         NOX      \n",
              "-2.898008   3.087890  -0.346041   1.127349   2.251034   1.048793  -4.945162   2.652758   2.465391  -0.406784  -0.591330    1\n",
              " 0.514592  -0.247878   0.532454   1.148326   1.020883   1.063974  -0.782059   1.066665   1.142057  -0.880918  -1.058374    1\n",
              " 0.512986   0.491792  -0.637691  -0.445454  -0.455388  -0.074626   0.538838  -0.311123  -0.236708  -0.552881  -1.070232    1\n",
              "            0.390269   0.025076  -0.506583  -0.480648  -0.125230   0.617181  -0.369844  -0.324696  -0.528897  -1.157550    1\n",
              " 0.512615  -0.059335   1.333550   0.565716  -0.208374   0.183457   0.628112  -0.094163  -0.119685  -0.579237  -0.620076    1\n",
              "                                                                                                                          ..\n",
              "-0.503909   2.319213   0.040438  -0.338601  -0.585266  -0.104988   0.640866  -0.233858  -0.329095   0.076970   0.102005    1\n",
              "-0.504279   0.158215  -0.088881  -0.761588   0.534903  -0.206197   0.624468  -0.244366  -0.419723  -0.793797   0.097693    1\n",
              "-0.504403   0.346759   1.390639   1.807471   1.391962   1.079156  -3.509484   1.815825   1.973540  -0.916447  -0.866939    1\n",
              "-0.504526  -2.492995   1.146847  -0.619172  -0.608961  -0.297285   0.613537  -0.282689  -0.430281   0.282625   0.319851    1\n",
              " 2.455487  -1.437152  -3.291123   1.132757   0.667910   1.033612   0.404015   0.578351   0.704759  -0.891702   0.814025    1\n",
              "Name: count, Length: 7384, dtype: int64"
            ]
          },
          "execution_count": 78,
          "metadata": {},
          "output_type": "execute_result"
        }
      ],
      "source": [
        "df_scaled.value_counts()"
      ]
    },
    {
      "cell_type": "markdown",
      "metadata": {
        "id": "m0bkVDl02tzs"
      },
      "source": [
        "# Задание 3\n",
        "\n",
        "Постройте модель кластеризации DBSCAN. Подберите оптимальные гиперпараметры, руководствуясь как результатами сеточного поиска, так и результатами анализа данных в предыдущих заданиях."
      ]
    },
    {
      "cell_type": "code",
      "execution_count": null,
      "metadata": {
        "id": "v6PUpyy93bP1"
      },
      "outputs": [],
      "source": [
        "from sklearn.cluster import DBSCAN\n",
        "from sklearn.metrics import silhouette_score\n",
        "\n",
        "model = DBSCAN(eps=0.75, min_samples=30).fit(df_scaled)\n"
      ]
    },
    {
      "cell_type": "code",
      "execution_count": null,
      "metadata": {
        "id": "avO-R0PN_rdJ"
      },
      "outputs": [],
      "source": [
        "df['labels'] = model.labels_"
      ]
    },
    {
      "cell_type": "code",
      "execution_count": null,
      "metadata": {
        "id": "KBD7I98c_rdJ",
        "outputId": "defe8e1c-f5e2-4ded-8e6d-506ac8e6747b"
      },
      "outputs": [
        {
          "data": {
            "text/plain": [
              "labels\n",
              "-1    2769\n",
              " 0    2355\n",
              " 6    1516\n",
              " 5     387\n",
              " 7     151\n",
              " 1      96\n",
              " 2      50\n",
              " 3      30\n",
              " 4      30\n",
              "Name: count, dtype: int64"
            ]
          },
          "execution_count": 81,
          "metadata": {},
          "output_type": "execute_result"
        }
      ],
      "source": [
        "df['labels'].value_counts()"
      ]
    },
    {
      "cell_type": "code",
      "execution_count": null,
      "metadata": {
        "id": "bPKt5Q2a_rdJ",
        "outputId": "a9e017ee-67bc-4d3e-823e-4c7fded06898"
      },
      "outputs": [
        {
          "data": {
            "text/plain": [
              "-0.0016704511998551"
            ]
          },
          "execution_count": 82,
          "metadata": {},
          "output_type": "execute_result"
        }
      ],
      "source": [
        "silhouette_score(df_scaled, df['labels'])"
      ]
    },
    {
      "cell_type": "markdown",
      "metadata": {
        "id": "1L87_xu63cYs"
      },
      "source": [
        "# Задание 4\n",
        "\n",
        "Интерпретируйте результаты кластеризации: объясните, чем схожи электростанции в каждом кластере и чем аномальные электростанции отличаются от остальных."
      ]
    },
    {
      "cell_type": "code",
      "execution_count": null,
      "metadata": {
        "id": "PvqAnlmW4Lvy",
        "outputId": "267fb5f9-90e0-4f62-8381-8639e209f5bd"
      },
      "outputs": [
        {
          "data": {
            "text/html": [
              "<div>\n",
              "<style scoped>\n",
              "    .dataframe tbody tr th:only-of-type {\n",
              "        vertical-align: middle;\n",
              "    }\n",
              "\n",
              "    .dataframe tbody tr th {\n",
              "        vertical-align: top;\n",
              "    }\n",
              "\n",
              "    .dataframe thead th {\n",
              "        text-align: right;\n",
              "    }\n",
              "</style>\n",
              "<table border=\"1\" class=\"dataframe\">\n",
              "  <thead>\n",
              "    <tr style=\"text-align: right;\">\n",
              "      <th></th>\n",
              "      <th>AT</th>\n",
              "      <th>AP</th>\n",
              "      <th>AH</th>\n",
              "      <th>AFDP</th>\n",
              "      <th>GTEP</th>\n",
              "      <th>TIT</th>\n",
              "      <th>TAT</th>\n",
              "      <th>TEY</th>\n",
              "      <th>CDP</th>\n",
              "      <th>CO</th>\n",
              "      <th>NOX</th>\n",
              "      <th>labels</th>\n",
              "    </tr>\n",
              "  </thead>\n",
              "  <tbody>\n",
              "    <tr>\n",
              "      <th>count</th>\n",
              "      <td>2355.000000</td>\n",
              "      <td>2355.000000</td>\n",
              "      <td>2355.000000</td>\n",
              "      <td>2355.000000</td>\n",
              "      <td>2355.000000</td>\n",
              "      <td>2355.000000</td>\n",
              "      <td>2355.000000</td>\n",
              "      <td>2355.000000</td>\n",
              "      <td>2355.000000</td>\n",
              "      <td>2355.000000</td>\n",
              "      <td>2355.000000</td>\n",
              "      <td>2355.0</td>\n",
              "    </tr>\n",
              "    <tr>\n",
              "      <th>mean</th>\n",
              "      <td>16.882167</td>\n",
              "      <td>1015.171932</td>\n",
              "      <td>71.796433</td>\n",
              "      <td>3.504077</td>\n",
              "      <td>24.790951</td>\n",
              "      <td>1079.688705</td>\n",
              "      <td>549.961711</td>\n",
              "      <td>132.082522</td>\n",
              "      <td>11.901870</td>\n",
              "      <td>2.492805</td>\n",
              "      <td>58.177352</td>\n",
              "      <td>0.0</td>\n",
              "    </tr>\n",
              "    <tr>\n",
              "      <th>std</th>\n",
              "      <td>6.574895</td>\n",
              "      <td>5.832323</td>\n",
              "      <td>11.532308</td>\n",
              "      <td>0.290941</td>\n",
              "      <td>1.560904</td>\n",
              "      <td>6.805113</td>\n",
              "      <td>0.322766</td>\n",
              "      <td>4.316486</td>\n",
              "      <td>0.327734</td>\n",
              "      <td>0.805177</td>\n",
              "      <td>7.407418</td>\n",
              "      <td>0.0</td>\n",
              "    </tr>\n",
              "    <tr>\n",
              "      <th>min</th>\n",
              "      <td>1.508400</td>\n",
              "      <td>1001.700000</td>\n",
              "      <td>31.625000</td>\n",
              "      <td>2.823900</td>\n",
              "      <td>21.351000</td>\n",
              "      <td>1063.200000</td>\n",
              "      <td>545.180000</td>\n",
              "      <td>121.260000</td>\n",
              "      <td>11.136000</td>\n",
              "      <td>0.310470</td>\n",
              "      <td>39.556000</td>\n",
              "      <td>0.0</td>\n",
              "    </tr>\n",
              "    <tr>\n",
              "      <th>25%</th>\n",
              "      <td>11.288000</td>\n",
              "      <td>1011.200000</td>\n",
              "      <td>64.259000</td>\n",
              "      <td>3.266350</td>\n",
              "      <td>23.677500</td>\n",
              "      <td>1075.100000</td>\n",
              "      <td>549.815000</td>\n",
              "      <td>129.830000</td>\n",
              "      <td>11.681500</td>\n",
              "      <td>1.872350</td>\n",
              "      <td>52.986000</td>\n",
              "      <td>0.0</td>\n",
              "    </tr>\n",
              "    <tr>\n",
              "      <th>50%</th>\n",
              "      <td>17.340000</td>\n",
              "      <td>1014.900000</td>\n",
              "      <td>73.789000</td>\n",
              "      <td>3.436900</td>\n",
              "      <td>24.435000</td>\n",
              "      <td>1078.200000</td>\n",
              "      <td>549.990000</td>\n",
              "      <td>130.760000</td>\n",
              "      <td>11.832000</td>\n",
              "      <td>2.291000</td>\n",
              "      <td>56.596000</td>\n",
              "      <td>0.0</td>\n",
              "    </tr>\n",
              "    <tr>\n",
              "      <th>75%</th>\n",
              "      <td>21.859000</td>\n",
              "      <td>1018.100000</td>\n",
              "      <td>80.958000</td>\n",
              "      <td>3.777000</td>\n",
              "      <td>25.560000</td>\n",
              "      <td>1082.650000</td>\n",
              "      <td>550.140000</td>\n",
              "      <td>133.150000</td>\n",
              "      <td>12.040000</td>\n",
              "      <td>3.141900</td>\n",
              "      <td>63.802000</td>\n",
              "      <td>0.0</td>\n",
              "    </tr>\n",
              "    <tr>\n",
              "      <th>max</th>\n",
              "      <td>32.620000</td>\n",
              "      <td>1034.100000</td>\n",
              "      <td>95.219000</td>\n",
              "      <td>4.112700</td>\n",
              "      <td>31.084000</td>\n",
              "      <td>1099.800000</td>\n",
              "      <td>550.590000</td>\n",
              "      <td>145.460000</td>\n",
              "      <td>12.925000</td>\n",
              "      <td>5.032600</td>\n",
              "      <td>78.451000</td>\n",
              "      <td>0.0</td>\n",
              "    </tr>\n",
              "  </tbody>\n",
              "</table>\n",
              "</div>"
            ],
            "text/plain": [
              "                AT           AP           AH         AFDP         GTEP  \\\n",
              "count  2355.000000  2355.000000  2355.000000  2355.000000  2355.000000   \n",
              "mean     16.882167  1015.171932    71.796433     3.504077    24.790951   \n",
              "std       6.574895     5.832323    11.532308     0.290941     1.560904   \n",
              "min       1.508400  1001.700000    31.625000     2.823900    21.351000   \n",
              "25%      11.288000  1011.200000    64.259000     3.266350    23.677500   \n",
              "50%      17.340000  1014.900000    73.789000     3.436900    24.435000   \n",
              "75%      21.859000  1018.100000    80.958000     3.777000    25.560000   \n",
              "max      32.620000  1034.100000    95.219000     4.112700    31.084000   \n",
              "\n",
              "               TIT          TAT          TEY          CDP           CO  \\\n",
              "count  2355.000000  2355.000000  2355.000000  2355.000000  2355.000000   \n",
              "mean   1079.688705   549.961711   132.082522    11.901870     2.492805   \n",
              "std       6.805113     0.322766     4.316486     0.327734     0.805177   \n",
              "min    1063.200000   545.180000   121.260000    11.136000     0.310470   \n",
              "25%    1075.100000   549.815000   129.830000    11.681500     1.872350   \n",
              "50%    1078.200000   549.990000   130.760000    11.832000     2.291000   \n",
              "75%    1082.650000   550.140000   133.150000    12.040000     3.141900   \n",
              "max    1099.800000   550.590000   145.460000    12.925000     5.032600   \n",
              "\n",
              "               NOX  labels  \n",
              "count  2355.000000  2355.0  \n",
              "mean     58.177352     0.0  \n",
              "std       7.407418     0.0  \n",
              "min      39.556000     0.0  \n",
              "25%      52.986000     0.0  \n",
              "50%      56.596000     0.0  \n",
              "75%      63.802000     0.0  \n",
              "max      78.451000     0.0  "
            ]
          },
          "execution_count": 83,
          "metadata": {},
          "output_type": "execute_result"
        }
      ],
      "source": [
        "df[df['labels'] == 0].describe()"
      ]
    },
    {
      "cell_type": "markdown",
      "metadata": {
        "id": "qpZDb_C3spx1"
      },
      "source": [
        "**Как отправить работу на проверку**\n",
        "\n",
        "Скачайте файл с работой в материалах, откройте его через Jupyter Notebook и выполните задания. Сохраните изменения при помощи опции Save and Checkpoint на вкладке меню File или кнопки Save and Checkpoint на панели инструментов. Отправьте через форму ниже итоговый файл Jupyter Notebook (в формате .ipynb) или ссылку на него.\n"
      ]
    },
    {
      "cell_type": "markdown",
      "metadata": {
        "id": "fMIiyShh_J5v"
      },
      "source": []
    }
  ],
  "metadata": {
    "colab": {
      "provenance": [],
      "include_colab_link": true
    },
    "gpuClass": "standard",
    "kernelspec": {
      "display_name": "Python 3",
      "name": "python3"
    },
    "language_info": {
      "codemirror_mode": {
        "name": "ipython",
        "version": 3
      },
      "file_extension": ".py",
      "mimetype": "text/x-python",
      "name": "python",
      "nbconvert_exporter": "python",
      "pygments_lexer": "ipython3",
      "version": "3.11.9"
    }
  },
  "nbformat": 4,
  "nbformat_minor": 0
}