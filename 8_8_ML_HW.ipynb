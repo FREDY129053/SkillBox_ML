{
  "nbformat": 4,
  "nbformat_minor": 0,
  "metadata": {
    "colab": {
      "provenance": [],
      "include_colab_link": true
    },
    "kernelspec": {
      "name": "python3",
      "display_name": "Python 3"
    },
    "language_info": {
      "name": "python"
    }
  },
  "cells": [
    {
      "cell_type": "markdown",
      "metadata": {
        "id": "view-in-github",
        "colab_type": "text"
      },
      "source": [
        "<a href=\"https://colab.research.google.com/github/FREDY129053/SkillBox_ML/blob/main/8_8_ML_HW.ipynb\" target=\"_parent\"><img src=\"https://colab.research.google.com/assets/colab-badge.svg\" alt=\"Open In Colab\"/></a>"
      ]
    },
    {
      "cell_type": "markdown",
      "source": [
        "# Логистическая регрессия. Практическая работа\n",
        "\n",
        "## Цель практической работы\n",
        "\n",
        "Вы уже делали задание, в котором с помощью метода ближайших соседей оценивали склонность клиента банка откликнуться или не откликнуться на предложение.\n",
        "\n",
        "В этом практическом задании ваши цели:\n",
        "*  решить эту же задачу с помощью логистической регрессии;\n",
        "*  потренироваться в подборе порога;\n",
        "*  потренироваться в подборе гиперпараметров модели."
      ],
      "metadata": {
        "id": "Q7ytv2GMjpGZ"
      }
    },
    {
      "cell_type": "markdown",
      "source": [
        "## Что входит в работу\n",
        "\n",
        "*  Загрузить данные для задачи.\n",
        "*  Обучить метод ближайших соседей с заданным количеством соседей k, вычислить метрики.\n",
        "*  Обучить логистическую регрессию с параметрами по умолчанию, вычислить метрики.\n",
        "*  Подобрать порог модели, вычислить метрики.\n",
        "*  Подобрать гиперпараметр С (константа регуляризации) модели, вычислить метрики."
      ],
      "metadata": {
        "id": "Sj3n0n38nEfs"
      }
    },
    {
      "cell_type": "markdown",
      "source": [
        "## Что оценивается\n",
        "\n",
        "*  Выполнены все этапы задания: код запускается, отрабатывает без ошибок; подробно и обоснованно написаны текстовые выводы, где это требуется."
      ],
      "metadata": {
        "id": "3qfZPYNpoFGE"
      }
    },
    {
      "cell_type": "markdown",
      "source": [
        "## Формат сдачи\n",
        "Выполните предложенные задания — впишите свой код (или, если требуется, текст) в ячейки после комментариев.\n",
        "\n",
        "*Комментарии — это текст, который начинается с символа #. Например: # ваш код здесь.*\n",
        "\n",
        "Сохраните изменения, используя опцию Save and Checkpoint из вкладки меню File или кнопку Save and Checkpoint на панели инструментов. Итоговый файл в формате .ipynb (файл Jupyter Notebook) загрузите в личный кабинет и отправьте на проверку."
      ],
      "metadata": {
        "id": "3_EzM8UJoRHd"
      }
    },
    {
      "cell_type": "code",
      "source": [
        "# подключим библиотеки\n",
        "%matplotlib inline\n",
        "import matplotlib.pyplot as plt\n",
        "import numpy as np\n",
        "import pandas as pd\n",
        "\n",
        "import warnings\n",
        "warnings.filterwarnings(\"ignore\")"
      ],
      "metadata": {
        "id": "aPDB2wP8jndz"
      },
      "execution_count": 1,
      "outputs": []
    },
    {
      "cell_type": "code",
      "source": [
        "# считаем данные\n",
        "data = pd.read_csv('/content/ClientsData.csv')"
      ],
      "metadata": {
        "id": "7Zw7RmtAjn8O"
      },
      "execution_count": 2,
      "outputs": []
    },
    {
      "cell_type": "code",
      "source": [
        "data.head()"
      ],
      "metadata": {
        "id": "3QbRGWqJjxOv",
        "collapsed": true,
        "colab": {
          "base_uri": "https://localhost:8080/",
          "height": 206
        },
        "outputId": "5098d42f-4f7e-4d4e-b50a-233abda5625d"
      },
      "execution_count": 3,
      "outputs": [
        {
          "output_type": "execute_result",
          "data": {
            "text/plain": [
              "   AGE  SOCSTATUS_WORK_FL  SOCSTATUS_PENS_FL  GENDER  CHILD_TOTAL  DEPENDANTS  \\\n",
              "0   49                  1                  0       1            2           1   \n",
              "1   32                  1                  0       1            3           3   \n",
              "2   52                  1                  0       1            4           0   \n",
              "3   39                  1                  0       1            1           1   \n",
              "4   30                  1                  0       0            0           0   \n",
              "\n",
              "   PERSONAL_INCOME  LOAN_NUM_TOTAL  LOAN_NUM_CLOSED  LOAN_DLQ_NUM  TARGET  \n",
              "0           5000.0               1                1             2       0  \n",
              "1          12000.0               1                1             1       0  \n",
              "2           9000.0               2                1             0       0  \n",
              "3          25000.0               1                1             3       0  \n",
              "4          12000.0               2                1             2       0  "
            ],
            "text/html": [
              "\n",
              "  <div id=\"df-8367694e-c7ff-403a-b440-94bd3907218f\" class=\"colab-df-container\">\n",
              "    <div>\n",
              "<style scoped>\n",
              "    .dataframe tbody tr th:only-of-type {\n",
              "        vertical-align: middle;\n",
              "    }\n",
              "\n",
              "    .dataframe tbody tr th {\n",
              "        vertical-align: top;\n",
              "    }\n",
              "\n",
              "    .dataframe thead th {\n",
              "        text-align: right;\n",
              "    }\n",
              "</style>\n",
              "<table border=\"1\" class=\"dataframe\">\n",
              "  <thead>\n",
              "    <tr style=\"text-align: right;\">\n",
              "      <th></th>\n",
              "      <th>AGE</th>\n",
              "      <th>SOCSTATUS_WORK_FL</th>\n",
              "      <th>SOCSTATUS_PENS_FL</th>\n",
              "      <th>GENDER</th>\n",
              "      <th>CHILD_TOTAL</th>\n",
              "      <th>DEPENDANTS</th>\n",
              "      <th>PERSONAL_INCOME</th>\n",
              "      <th>LOAN_NUM_TOTAL</th>\n",
              "      <th>LOAN_NUM_CLOSED</th>\n",
              "      <th>LOAN_DLQ_NUM</th>\n",
              "      <th>TARGET</th>\n",
              "    </tr>\n",
              "  </thead>\n",
              "  <tbody>\n",
              "    <tr>\n",
              "      <th>0</th>\n",
              "      <td>49</td>\n",
              "      <td>1</td>\n",
              "      <td>0</td>\n",
              "      <td>1</td>\n",
              "      <td>2</td>\n",
              "      <td>1</td>\n",
              "      <td>5000.0</td>\n",
              "      <td>1</td>\n",
              "      <td>1</td>\n",
              "      <td>2</td>\n",
              "      <td>0</td>\n",
              "    </tr>\n",
              "    <tr>\n",
              "      <th>1</th>\n",
              "      <td>32</td>\n",
              "      <td>1</td>\n",
              "      <td>0</td>\n",
              "      <td>1</td>\n",
              "      <td>3</td>\n",
              "      <td>3</td>\n",
              "      <td>12000.0</td>\n",
              "      <td>1</td>\n",
              "      <td>1</td>\n",
              "      <td>1</td>\n",
              "      <td>0</td>\n",
              "    </tr>\n",
              "    <tr>\n",
              "      <th>2</th>\n",
              "      <td>52</td>\n",
              "      <td>1</td>\n",
              "      <td>0</td>\n",
              "      <td>1</td>\n",
              "      <td>4</td>\n",
              "      <td>0</td>\n",
              "      <td>9000.0</td>\n",
              "      <td>2</td>\n",
              "      <td>1</td>\n",
              "      <td>0</td>\n",
              "      <td>0</td>\n",
              "    </tr>\n",
              "    <tr>\n",
              "      <th>3</th>\n",
              "      <td>39</td>\n",
              "      <td>1</td>\n",
              "      <td>0</td>\n",
              "      <td>1</td>\n",
              "      <td>1</td>\n",
              "      <td>1</td>\n",
              "      <td>25000.0</td>\n",
              "      <td>1</td>\n",
              "      <td>1</td>\n",
              "      <td>3</td>\n",
              "      <td>0</td>\n",
              "    </tr>\n",
              "    <tr>\n",
              "      <th>4</th>\n",
              "      <td>30</td>\n",
              "      <td>1</td>\n",
              "      <td>0</td>\n",
              "      <td>0</td>\n",
              "      <td>0</td>\n",
              "      <td>0</td>\n",
              "      <td>12000.0</td>\n",
              "      <td>2</td>\n",
              "      <td>1</td>\n",
              "      <td>2</td>\n",
              "      <td>0</td>\n",
              "    </tr>\n",
              "  </tbody>\n",
              "</table>\n",
              "</div>\n",
              "    <div class=\"colab-df-buttons\">\n",
              "\n",
              "  <div class=\"colab-df-container\">\n",
              "    <button class=\"colab-df-convert\" onclick=\"convertToInteractive('df-8367694e-c7ff-403a-b440-94bd3907218f')\"\n",
              "            title=\"Convert this dataframe to an interactive table.\"\n",
              "            style=\"display:none;\">\n",
              "\n",
              "  <svg xmlns=\"http://www.w3.org/2000/svg\" height=\"24px\" viewBox=\"0 -960 960 960\">\n",
              "    <path d=\"M120-120v-720h720v720H120Zm60-500h600v-160H180v160Zm220 220h160v-160H400v160Zm0 220h160v-160H400v160ZM180-400h160v-160H180v160Zm440 0h160v-160H620v160ZM180-180h160v-160H180v160Zm440 0h160v-160H620v160Z\"/>\n",
              "  </svg>\n",
              "    </button>\n",
              "\n",
              "  <style>\n",
              "    .colab-df-container {\n",
              "      display:flex;\n",
              "      gap: 12px;\n",
              "    }\n",
              "\n",
              "    .colab-df-convert {\n",
              "      background-color: #E8F0FE;\n",
              "      border: none;\n",
              "      border-radius: 50%;\n",
              "      cursor: pointer;\n",
              "      display: none;\n",
              "      fill: #1967D2;\n",
              "      height: 32px;\n",
              "      padding: 0 0 0 0;\n",
              "      width: 32px;\n",
              "    }\n",
              "\n",
              "    .colab-df-convert:hover {\n",
              "      background-color: #E2EBFA;\n",
              "      box-shadow: 0px 1px 2px rgba(60, 64, 67, 0.3), 0px 1px 3px 1px rgba(60, 64, 67, 0.15);\n",
              "      fill: #174EA6;\n",
              "    }\n",
              "\n",
              "    .colab-df-buttons div {\n",
              "      margin-bottom: 4px;\n",
              "    }\n",
              "\n",
              "    [theme=dark] .colab-df-convert {\n",
              "      background-color: #3B4455;\n",
              "      fill: #D2E3FC;\n",
              "    }\n",
              "\n",
              "    [theme=dark] .colab-df-convert:hover {\n",
              "      background-color: #434B5C;\n",
              "      box-shadow: 0px 1px 3px 1px rgba(0, 0, 0, 0.15);\n",
              "      filter: drop-shadow(0px 1px 2px rgba(0, 0, 0, 0.3));\n",
              "      fill: #FFFFFF;\n",
              "    }\n",
              "  </style>\n",
              "\n",
              "    <script>\n",
              "      const buttonEl =\n",
              "        document.querySelector('#df-8367694e-c7ff-403a-b440-94bd3907218f button.colab-df-convert');\n",
              "      buttonEl.style.display =\n",
              "        google.colab.kernel.accessAllowed ? 'block' : 'none';\n",
              "\n",
              "      async function convertToInteractive(key) {\n",
              "        const element = document.querySelector('#df-8367694e-c7ff-403a-b440-94bd3907218f');\n",
              "        const dataTable =\n",
              "          await google.colab.kernel.invokeFunction('convertToInteractive',\n",
              "                                                    [key], {});\n",
              "        if (!dataTable) return;\n",
              "\n",
              "        const docLinkHtml = 'Like what you see? Visit the ' +\n",
              "          '<a target=\"_blank\" href=https://colab.research.google.com/notebooks/data_table.ipynb>data table notebook</a>'\n",
              "          + ' to learn more about interactive tables.';\n",
              "        element.innerHTML = '';\n",
              "        dataTable['output_type'] = 'display_data';\n",
              "        await google.colab.output.renderOutput(dataTable, element);\n",
              "        const docLink = document.createElement('div');\n",
              "        docLink.innerHTML = docLinkHtml;\n",
              "        element.appendChild(docLink);\n",
              "      }\n",
              "    </script>\n",
              "  </div>\n",
              "\n",
              "\n",
              "<div id=\"df-5c40911b-6ef9-49dc-85b7-d8fb6cf9bc92\">\n",
              "  <button class=\"colab-df-quickchart\" onclick=\"quickchart('df-5c40911b-6ef9-49dc-85b7-d8fb6cf9bc92')\"\n",
              "            title=\"Suggest charts\"\n",
              "            style=\"display:none;\">\n",
              "\n",
              "<svg xmlns=\"http://www.w3.org/2000/svg\" height=\"24px\"viewBox=\"0 0 24 24\"\n",
              "     width=\"24px\">\n",
              "    <g>\n",
              "        <path d=\"M19 3H5c-1.1 0-2 .9-2 2v14c0 1.1.9 2 2 2h14c1.1 0 2-.9 2-2V5c0-1.1-.9-2-2-2zM9 17H7v-7h2v7zm4 0h-2V7h2v10zm4 0h-2v-4h2v4z\"/>\n",
              "    </g>\n",
              "</svg>\n",
              "  </button>\n",
              "\n",
              "<style>\n",
              "  .colab-df-quickchart {\n",
              "      --bg-color: #E8F0FE;\n",
              "      --fill-color: #1967D2;\n",
              "      --hover-bg-color: #E2EBFA;\n",
              "      --hover-fill-color: #174EA6;\n",
              "      --disabled-fill-color: #AAA;\n",
              "      --disabled-bg-color: #DDD;\n",
              "  }\n",
              "\n",
              "  [theme=dark] .colab-df-quickchart {\n",
              "      --bg-color: #3B4455;\n",
              "      --fill-color: #D2E3FC;\n",
              "      --hover-bg-color: #434B5C;\n",
              "      --hover-fill-color: #FFFFFF;\n",
              "      --disabled-bg-color: #3B4455;\n",
              "      --disabled-fill-color: #666;\n",
              "  }\n",
              "\n",
              "  .colab-df-quickchart {\n",
              "    background-color: var(--bg-color);\n",
              "    border: none;\n",
              "    border-radius: 50%;\n",
              "    cursor: pointer;\n",
              "    display: none;\n",
              "    fill: var(--fill-color);\n",
              "    height: 32px;\n",
              "    padding: 0;\n",
              "    width: 32px;\n",
              "  }\n",
              "\n",
              "  .colab-df-quickchart:hover {\n",
              "    background-color: var(--hover-bg-color);\n",
              "    box-shadow: 0 1px 2px rgba(60, 64, 67, 0.3), 0 1px 3px 1px rgba(60, 64, 67, 0.15);\n",
              "    fill: var(--button-hover-fill-color);\n",
              "  }\n",
              "\n",
              "  .colab-df-quickchart-complete:disabled,\n",
              "  .colab-df-quickchart-complete:disabled:hover {\n",
              "    background-color: var(--disabled-bg-color);\n",
              "    fill: var(--disabled-fill-color);\n",
              "    box-shadow: none;\n",
              "  }\n",
              "\n",
              "  .colab-df-spinner {\n",
              "    border: 2px solid var(--fill-color);\n",
              "    border-color: transparent;\n",
              "    border-bottom-color: var(--fill-color);\n",
              "    animation:\n",
              "      spin 1s steps(1) infinite;\n",
              "  }\n",
              "\n",
              "  @keyframes spin {\n",
              "    0% {\n",
              "      border-color: transparent;\n",
              "      border-bottom-color: var(--fill-color);\n",
              "      border-left-color: var(--fill-color);\n",
              "    }\n",
              "    20% {\n",
              "      border-color: transparent;\n",
              "      border-left-color: var(--fill-color);\n",
              "      border-top-color: var(--fill-color);\n",
              "    }\n",
              "    30% {\n",
              "      border-color: transparent;\n",
              "      border-left-color: var(--fill-color);\n",
              "      border-top-color: var(--fill-color);\n",
              "      border-right-color: var(--fill-color);\n",
              "    }\n",
              "    40% {\n",
              "      border-color: transparent;\n",
              "      border-right-color: var(--fill-color);\n",
              "      border-top-color: var(--fill-color);\n",
              "    }\n",
              "    60% {\n",
              "      border-color: transparent;\n",
              "      border-right-color: var(--fill-color);\n",
              "    }\n",
              "    80% {\n",
              "      border-color: transparent;\n",
              "      border-right-color: var(--fill-color);\n",
              "      border-bottom-color: var(--fill-color);\n",
              "    }\n",
              "    90% {\n",
              "      border-color: transparent;\n",
              "      border-bottom-color: var(--fill-color);\n",
              "    }\n",
              "  }\n",
              "</style>\n",
              "\n",
              "  <script>\n",
              "    async function quickchart(key) {\n",
              "      const quickchartButtonEl =\n",
              "        document.querySelector('#' + key + ' button');\n",
              "      quickchartButtonEl.disabled = true;  // To prevent multiple clicks.\n",
              "      quickchartButtonEl.classList.add('colab-df-spinner');\n",
              "      try {\n",
              "        const charts = await google.colab.kernel.invokeFunction(\n",
              "            'suggestCharts', [key], {});\n",
              "      } catch (error) {\n",
              "        console.error('Error during call to suggestCharts:', error);\n",
              "      }\n",
              "      quickchartButtonEl.classList.remove('colab-df-spinner');\n",
              "      quickchartButtonEl.classList.add('colab-df-quickchart-complete');\n",
              "    }\n",
              "    (() => {\n",
              "      let quickchartButtonEl =\n",
              "        document.querySelector('#df-5c40911b-6ef9-49dc-85b7-d8fb6cf9bc92 button');\n",
              "      quickchartButtonEl.style.display =\n",
              "        google.colab.kernel.accessAllowed ? 'block' : 'none';\n",
              "    })();\n",
              "  </script>\n",
              "</div>\n",
              "    </div>\n",
              "  </div>\n"
            ],
            "application/vnd.google.colaboratory.intrinsic+json": {
              "type": "dataframe",
              "variable_name": "data",
              "summary": "{\n  \"name\": \"data\",\n  \"rows\": 15223,\n  \"fields\": [\n    {\n      \"column\": \"AGE\",\n      \"properties\": {\n        \"dtype\": \"number\",\n        \"std\": 11,\n        \"min\": 21,\n        \"max\": 67,\n        \"num_unique_values\": 47,\n        \"samples\": [\n          59,\n          46,\n          44\n        ],\n        \"semantic_type\": \"\",\n        \"description\": \"\"\n      }\n    },\n    {\n      \"column\": \"SOCSTATUS_WORK_FL\",\n      \"properties\": {\n        \"dtype\": \"number\",\n        \"std\": 0,\n        \"min\": 0,\n        \"max\": 1,\n        \"num_unique_values\": 2,\n        \"samples\": [\n          0,\n          1\n        ],\n        \"semantic_type\": \"\",\n        \"description\": \"\"\n      }\n    },\n    {\n      \"column\": \"SOCSTATUS_PENS_FL\",\n      \"properties\": {\n        \"dtype\": \"number\",\n        \"std\": 0,\n        \"min\": 0,\n        \"max\": 1,\n        \"num_unique_values\": 2,\n        \"samples\": [\n          1,\n          0\n        ],\n        \"semantic_type\": \"\",\n        \"description\": \"\"\n      }\n    },\n    {\n      \"column\": \"GENDER\",\n      \"properties\": {\n        \"dtype\": \"number\",\n        \"std\": 0,\n        \"min\": 0,\n        \"max\": 1,\n        \"num_unique_values\": 2,\n        \"samples\": [\n          0,\n          1\n        ],\n        \"semantic_type\": \"\",\n        \"description\": \"\"\n      }\n    },\n    {\n      \"column\": \"CHILD_TOTAL\",\n      \"properties\": {\n        \"dtype\": \"number\",\n        \"std\": 0,\n        \"min\": 0,\n        \"max\": 10,\n        \"num_unique_values\": 10,\n        \"samples\": [\n          8,\n          3\n        ],\n        \"semantic_type\": \"\",\n        \"description\": \"\"\n      }\n    },\n    {\n      \"column\": \"DEPENDANTS\",\n      \"properties\": {\n        \"dtype\": \"number\",\n        \"std\": 0,\n        \"min\": 0,\n        \"max\": 7,\n        \"num_unique_values\": 8,\n        \"samples\": [\n          3,\n          5\n        ],\n        \"semantic_type\": \"\",\n        \"description\": \"\"\n      }\n    },\n    {\n      \"column\": \"PERSONAL_INCOME\",\n      \"properties\": {\n        \"dtype\": \"number\",\n        \"std\": 9015.467616529038,\n        \"min\": 24.0,\n        \"max\": 250000.0,\n        \"num_unique_values\": 274,\n        \"samples\": [\n          11700.0,\n          16800.0\n        ],\n        \"semantic_type\": \"\",\n        \"description\": \"\"\n      }\n    },\n    {\n      \"column\": \"LOAN_NUM_TOTAL\",\n      \"properties\": {\n        \"dtype\": \"number\",\n        \"std\": 0,\n        \"min\": 1,\n        \"max\": 11,\n        \"num_unique_values\": 9,\n        \"samples\": [\n          7,\n          2\n        ],\n        \"semantic_type\": \"\",\n        \"description\": \"\"\n      }\n    },\n    {\n      \"column\": \"LOAN_NUM_CLOSED\",\n      \"properties\": {\n        \"dtype\": \"number\",\n        \"std\": 0,\n        \"min\": 0,\n        \"max\": 11,\n        \"num_unique_values\": 10,\n        \"samples\": [\n          7,\n          2\n        ],\n        \"semantic_type\": \"\",\n        \"description\": \"\"\n      }\n    },\n    {\n      \"column\": \"LOAN_DLQ_NUM\",\n      \"properties\": {\n        \"dtype\": \"number\",\n        \"std\": 0,\n        \"min\": 0,\n        \"max\": 13,\n        \"num_unique_values\": 14,\n        \"samples\": [\n          13,\n          10\n        ],\n        \"semantic_type\": \"\",\n        \"description\": \"\"\n      }\n    },\n    {\n      \"column\": \"TARGET\",\n      \"properties\": {\n        \"dtype\": \"number\",\n        \"std\": 0,\n        \"min\": 0,\n        \"max\": 1,\n        \"num_unique_values\": 2,\n        \"samples\": [\n          1,\n          0\n        ],\n        \"semantic_type\": \"\",\n        \"description\": \"\"\n      }\n    }\n  ]\n}"
            }
          },
          "metadata": {},
          "execution_count": 3
        }
      ]
    },
    {
      "cell_type": "markdown",
      "source": [
        "В этом ноутбуке нам придётся подбирать гиперпараметры модели, а ещё порог. Поэтому, чтобы не переобучиться, разобъём данные на трейн, валидацию и тест.\n",
        "\n",
        "*  Обучать модели будем на тренировочных данных.\n",
        "*  Подбирать необходимые величины — по валидации.\n",
        "*  Оценивать качество — на тесте."
      ],
      "metadata": {
        "id": "HbnaQJxw2mHQ"
      }
    },
    {
      "cell_type": "code",
      "source": [
        "# разделим данные на обучающую и тестовую выборки\n",
        "from sklearn.model_selection import train_test_split\n",
        "\n",
        "X = data.drop('TARGET', axis=1)\n",
        "y = data['TARGET']\n",
        "\n",
        "Xtrain, Xtest, ytrain, ytest = train_test_split(X, y, train_size=0.7, random_state=123)\n",
        "Xtrain, Xval, ytrain, yval = train_test_split(Xtrain, ytrain, train_size=0.7, random_state=123)"
      ],
      "metadata": {
        "id": "bkG1LjB0s81d"
      },
      "execution_count": 4,
      "outputs": []
    },
    {
      "cell_type": "markdown",
      "source": [
        "В задании по методу ближайших соседей было найдено, что оптимальное число соседей k = 9.\n",
        "\n",
        "Обучите на тренировочных данных KNN с k = 9 и выведите матрицу ошибок, а также значение метрик precision и recall на тестовых данных."
      ],
      "metadata": {
        "id": "9g3cyUKPqgqu"
      }
    },
    {
      "cell_type": "code",
      "source": [
        "from sklearn.neighbors import KNeighborsClassifier\n",
        "from sklearn.metrics import confusion_matrix\n",
        "from sklearn.metrics import precision_score, recall_score"
      ],
      "metadata": {
        "id": "efySFKgej1_1"
      },
      "execution_count": 6,
      "outputs": []
    },
    {
      "cell_type": "code",
      "source": [
        "# ваш код здесь\n",
        "knn = KNeighborsClassifier(n_neighbors=9)\n",
        "knn.fit(Xtrain, ytrain)\n",
        "\n",
        "predictions = knn.predict(Xtest)\n",
        "\n",
        "print('Матрица ошибок')\n",
        "print(confusion_matrix(ytest, predictions))\n",
        "\n",
        "print('\\n\\nPrecision', precision_score(ytest, predictions))\n",
        "\n",
        "print('\\n\\nRecall', recall_score(ytest, predictions))"
      ],
      "metadata": {
        "id": "QzR_npzTj5OC",
        "colab": {
          "base_uri": "https://localhost:8080/"
        },
        "outputId": "8cba2170-56a4-457e-c0c5-6f302b63c0c3"
      },
      "execution_count": 7,
      "outputs": [
        {
          "output_type": "stream",
          "name": "stdout",
          "text": [
            "Матрица ошибок\n",
            "[[3981   27]\n",
            " [ 555    4]]\n",
            "\n",
            "\n",
            "Precision 0.12903225806451613\n",
            "\n",
            "\n",
            "Recall 0.007155635062611807\n"
          ]
        }
      ]
    },
    {
      "cell_type": "markdown",
      "source": [
        "Какой вывод можно сделать:\n",
        "- для класса 0 — клиент не откликнулся — мы получили достаточно высокие значения TP в том числе потому, что представителей этого класса больше;\n",
        "- для класса 1 — клиент откликнулся — мы получили низкие значения TN.\n",
        "\n",
        "Поэтому значения precision и recall низкие. Модель даёт неудовлетворительные результаты, так как находит мало клиентов, которые откликнутся на предложение.\n",
        "\n"
      ],
      "metadata": {
        "id": "E9Bk7tSerX-L"
      }
    },
    {
      "cell_type": "markdown",
      "source": [
        "Обучите логистическую регрессию с параметрами по умолчанию и посмотрите на метрики.\n",
        "\n",
        "Везде дальше при оценке метрик надо выводить confusion_matrix, precision и recall."
      ],
      "metadata": {
        "id": "zGmfshG9rmBn"
      }
    },
    {
      "cell_type": "code",
      "source": [
        "def print_metrics(test, pred):\n",
        "  print('Матрица ошибок')\n",
        "  print(confusion_matrix(test, pred))\n",
        "\n",
        "  print('\\n\\nPrecision', precision_score(test, pred))\n",
        "\n",
        "  print('\\n\\nRecall', recall_score(test, pred))"
      ],
      "metadata": {
        "id": "Y-1azM-OAH-4"
      },
      "execution_count": 12,
      "outputs": []
    },
    {
      "cell_type": "code",
      "source": [
        "from sklearn.linear_model import LogisticRegression\n",
        "from sklearn.metrics import accuracy_score\n",
        "\n",
        "# ваш код здесь\n",
        "logreg = LogisticRegression()\n",
        "logreg.fit(Xtrain, ytrain)\n",
        "\n",
        "predictions = logreg.predict(Xtest)\n",
        "\n",
        "print_metrics(ytest, predictions)\n",
        "print('\\n\\nAccuracy: ', accuracy_score(ytest, predictions))"
      ],
      "metadata": {
        "id": "7tOX78zbrPHB",
        "colab": {
          "base_uri": "https://localhost:8080/"
        },
        "outputId": "e7f6a4ee-608a-449c-a46c-7a851ea2b1e2"
      },
      "execution_count": 13,
      "outputs": [
        {
          "output_type": "stream",
          "name": "stdout",
          "text": [
            "Матрица ошибок\n",
            "[[4008    0]\n",
            " [ 559    0]]\n",
            "\n",
            "\n",
            "Precision 0.0\n",
            "\n",
            "\n",
            "Recall 0.0\n",
            "\n",
            "\n",
            "Accuracy:  0.8776001751696957\n"
          ]
        }
      ]
    },
    {
      "cell_type": "markdown",
      "source": [
        "Наша цель — найти как можно больше клиентов, которые откликнутся на предложение. А модель таких не находит.\n",
        "\n",
        "Мы помним, что метод predict_proba у логистической регрессии предсказывает математические (то есть корректные) вероятности классов. Предскажите вероятности классов с помощью обученной логистической регрессии на тестовых данных и выведите вероятности положительного класса для первых десяти объектов.\n",
        "\n",
        "Глядя на полученные вероятности, попробуйте объяснить, почему вы получили именно такую матрицу ошибок и такие значения точности с полноты."
      ],
      "metadata": {
        "id": "CvWGh7m9sTKM"
      }
    },
    {
      "cell_type": "code",
      "source": [
        "# ваш код здесь\n",
        "probs = logreg.predict_proba(Xtest)[:, 1]\n",
        "probs[:10].round(5)"
      ],
      "metadata": {
        "id": "LNqjcxrwsLzl",
        "colab": {
          "base_uri": "https://localhost:8080/"
        },
        "outputId": "d46415bc-307c-44ea-ea8d-fb14f38cf87e"
      },
      "execution_count": 25,
      "outputs": [
        {
          "output_type": "execute_result",
          "data": {
            "text/plain": [
              "array([0.14042, 0.14107, 0.19378, 0.27152, 0.12612, 0.04103, 0.04262,\n",
              "       0.03656, 0.0823 , 0.06786])"
            ]
          },
          "metadata": {},
          "execution_count": 25
        }
      ]
    },
    {
      "cell_type": "code",
      "source": [
        "# ваше объяснение здесь\n",
        "# Маленькие вероятности отрицательного класса, поэтому ни один класс отрицательный не был угадан"
      ],
      "metadata": {
        "id": "mwJzqbfv5yE4"
      },
      "execution_count": null,
      "outputs": []
    },
    {
      "cell_type": "markdown",
      "source": [
        "Давайте уточним цель. Пусть нам нужно найти как можно больше клиентов, которые откликнутся на предложение, то есть максимизировать полноту (recall).\n",
        "\n",
        "При этом хочется, чтобы точность модели (precision) не была очень низкой. Заказчик посмотрел на результаты работы KNN и потребовал, чтобы точность была не ниже, чем у KNN: $precision \\geq 0.13$."
      ],
      "metadata": {
        "id": "Z08xmRAcugGb"
      }
    },
    {
      "cell_type": "markdown",
      "source": [
        "Давайте будем изменять порог для перевода вероятности в классы так, чтобы:\n",
        "*   максимизировать значение recall\n",
        "*   при условии, что $precision \\geq 0.13$.\n",
        "\n",
        "Если мы будем подбирать порог по тестовой выборке, то, по сути, обучимся на ней и, значит, переобучимся. Это плохо.\n",
        "\n",
        "Поэтому предскажите вероятности на валидационной выборке и подберите порог по ней (Xval, yval), а затем посмотрите, какое качество для найденного порога вы получите на тестовых данных."
      ],
      "metadata": {
        "id": "f-syFkflt6EV"
      }
    },
    {
      "cell_type": "code",
      "source": [
        "probs_val = logreg.predict_proba(Xval)[:, 1] # ваш код здесь\n",
        "\n",
        "max_recall = -1\n",
        "thr = -1\n",
        "prec = -1\n",
        "\n",
        "for threshold in np.arange(0.05, 1, 0.001):\n",
        "    # для каждого значения порога переведите вероятности в классы\n",
        "    # посчитайте метрики\n",
        "    yval_pred = (probs_val >= threshold).astype(int)\n",
        "    precision = precision_score(yval, yval_pred)\n",
        "    recall = recall_score(yval, yval_pred)\n",
        "    if recall > max_recall and precision >= 0.13:\n",
        "      max_recall = recall\n",
        "      thr = threshold\n",
        "      prec = precision\n",
        "\n",
        "# напечатайте порог, для которого получается максимальная полнота, при precision >= 0.13\n",
        "print(f'Порог: {thr}\\n')\n",
        "print(f'Полнота: {recall}\\n')\n",
        "print(f'Точность: {prec}\\n')"
      ],
      "metadata": {
        "id": "398pACpBtFi2",
        "colab": {
          "base_uri": "https://localhost:8080/"
        },
        "outputId": "667d8574-88e0-4a16-f818-5ec06415dc14"
      },
      "execution_count": 26,
      "outputs": [
        {
          "output_type": "stream",
          "name": "stdout",
          "text": [
            "Порог: 0.07300000000000002\n",
            "\n",
            "Полнота: 0.0\n",
            "\n",
            "Точность: 0.1310285958173282\n",
            "\n"
          ]
        }
      ]
    },
    {
      "cell_type": "code",
      "source": [
        "# по найденному порогу переведите вероятности в классы на тесте и напечатайте метрики\n",
        "probs_test = logreg.predict_proba(Xtest)[:, 1]\n",
        "ytest_pred = (probs_test >= thr).astype(int)\n",
        "\n",
        "print_metrics(ytest, ytest_pred)"
      ],
      "metadata": {
        "id": "qpHv0DVwywKq",
        "colab": {
          "base_uri": "https://localhost:8080/"
        },
        "outputId": "f0fcc49e-98f5-48dc-ceb4-c9088fff2a16"
      },
      "execution_count": 27,
      "outputs": [
        {
          "output_type": "stream",
          "name": "stdout",
          "text": [
            "Матрица ошибок\n",
            "[[1152 2856]\n",
            " [ 104  455]]\n",
            "\n",
            "\n",
            "Precision 0.13742071881606766\n",
            "\n",
            "\n",
            "Recall 0.813953488372093\n"
          ]
        }
      ]
    },
    {
      "cell_type": "markdown",
      "source": [
        "Сделайте вывод. Смогли ли мы с помощью подбора порога добиться большего значения recall, чем у KNN?"
      ],
      "metadata": {
        "id": "fLakCD5TwmDe"
      }
    },
    {
      "cell_type": "code",
      "source": [
        "# ваш вывод здесь\n",
        "# Да, смог. Нахождение параметров позволило увеличить полноту при точности >= 0.13"
      ],
      "metadata": {
        "id": "222ZBiDy6Z1_"
      },
      "execution_count": null,
      "outputs": []
    },
    {
      "cell_type": "markdown",
      "source": [
        "А ещё, чтобы улучшить качество предсказания, можно подбирать значение гиперпараметра C у логистической регрессии. Для каждого значения C придётся подбирать свой порог, поэтому:  \n",
        "\n",
        "1. Обучите для значений C из диапазона [0.05, 0.15, 0.25, ...., 10.05] логистическую регрессию (на тренировочных данных).\n",
        "\n",
        "2. Для каждой из обученных моделей во внутреннем цикле подберите оптимальный порог (как в предыдущем задании) — на валидационных данных.\n",
        "\n",
        "\n",
        "\n",
        "В качестве результата выведите значение C и порога для модели, которая даёт наилучшие значения метрик (наибольший recall при ограничении на $precision \\geq 0.13$).\n",
        "\n",
        "Также напечатайте полученные метрики (матрицу ошибок, точность и полноту) для лучшей модели — на тестовых данных."
      ],
      "metadata": {
        "id": "zc1D7Hy8wvkR"
      }
    },
    {
      "cell_type": "code",
      "source": [
        "regs = []\n",
        "recalls = []\n",
        "thresholds = []\n",
        "precisions = []\n",
        "\n",
        "for reg in np.arange(0.001, 1, 0.01):\n",
        "\n",
        "    # обучите логистическую регрессию с C=reg\n",
        "    logreg = LogisticRegression(C=reg)\n",
        "    logreg.fit(Xtrain, ytrain)\n",
        "    probs_val = logreg.predict_proba(Xval)[:, 1]\n",
        "\n",
        "    max_recall = -1\n",
        "    thr = -1\n",
        "    prec = -1\n",
        "\n",
        "    for threshold in np.arange(0.05, 0.25, 0.001):\n",
        "        # подберите оптимальный порог как в задании выше\n",
        "        yval_pred = (probs_val >= threshold).astype(int)\n",
        "        precision = precision_score(yval, yval_pred)\n",
        "        recall = recall_score(yval, yval_pred)\n",
        "        if recall > max_recall and precision >= 0.13:\n",
        "          max_recall = recall\n",
        "          thr = threshold\n",
        "          prec = precision\n",
        "\n",
        "    recalls.append(max_recall)\n",
        "    thresholds.append(thr)\n",
        "    precisions.append(prec)\n",
        "    regs.append(reg)"
      ],
      "metadata": {
        "id": "EhjmTEkhuT9S"
      },
      "execution_count": 28,
      "outputs": []
    },
    {
      "cell_type": "code",
      "source": [
        "# выведите значения C, precision, recall, threshold для наилучшей по заданным условиям модели\n",
        "id = np.argmax(recalls)\n",
        "\n",
        "print('Best C = ', regs[id])\n",
        "print('Best precision = ', precisions[id])\n",
        "print('Best recall = ', recalls[id])\n",
        "print('Best thresholds = ', thresholds[id])"
      ],
      "metadata": {
        "id": "DZtXAIxi0Ksr",
        "colab": {
          "base_uri": "https://localhost:8080/"
        },
        "outputId": "76fbdc37-5412-4c4e-b3e3-d59a22f075a5"
      },
      "execution_count": 29,
      "outputs": [
        {
          "output_type": "stream",
          "name": "stdout",
          "text": [
            "Best C =  0.001\n",
            "Best precision =  0.1305827307528711\n",
            "Best recall =  0.8696883852691218\n",
            "Best thresholds =  0.07300000000000002\n"
          ]
        }
      ]
    },
    {
      "cell_type": "code",
      "source": [
        "# с помощью найденных C и threshold обучите модель на тренировочных данных, сделайте предсказание на тесте и по найденному порогу получите классы\n",
        "# напечатайте метрики\n",
        "logreg = LogisticRegression(C=regs[id])\n",
        "logreg.fit(Xtrain, ytrain)\n",
        "probs_test = logreg.predict_proba(Xtest)[:, 1]\n",
        "ytest_pred = (probs_test >= thresholds[id]).astype(int)\n",
        "\n",
        "print_metrics(ytest, ytest_pred)"
      ],
      "metadata": {
        "id": "rQLQZ1bg4BGy",
        "colab": {
          "base_uri": "https://localhost:8080/"
        },
        "outputId": "6f8ff592-0cbe-4fc5-fcc8-1afe12f919c5"
      },
      "execution_count": 30,
      "outputs": [
        {
          "output_type": "stream",
          "name": "stdout",
          "text": [
            "Матрица ошибок\n",
            "[[1143 2865]\n",
            " [ 102  457]]\n",
            "\n",
            "\n",
            "Precision 0.13756773028296207\n",
            "\n",
            "\n",
            "Recall 0.817531305903399\n"
          ]
        }
      ]
    },
    {
      "cell_type": "markdown",
      "source": [
        "Влияет ли изменение гиперпараметра C на качество модели (и, соответственно, метрики) в этой задаче?"
      ],
      "metadata": {
        "id": "fwpx_UVS2DK_"
      }
    },
    {
      "cell_type": "code",
      "source": [
        "# ваш вывод здесь\n",
        "# Да. Добился лучшей полноты при заданном уровне точности"
      ],
      "metadata": {
        "id": "FzTsUr7p7Eu-"
      },
      "execution_count": null,
      "outputs": []
    },
    {
      "cell_type": "markdown",
      "source": [
        "Ответьте развёрнуто на следующие вопросы:\n",
        "\n",
        "* Удалось ли при помощи логистической регрессии и подбора порога превзойти качество метода ближайших соседей в этой задаче?\n",
        "\n",
        "* Смогли ли мы при помощи этой модели получить высокий recall при ограничениях, поставленных заказчиком?\n"
      ],
      "metadata": {
        "id": "BaCqlDx74pns"
      }
    },
    {
      "cell_type": "code",
      "source": [
        "# ваш вывод здесь\n",
        "# Вроде смог. Улучшил полноту это точно\n",
        "# Да, смог"
      ],
      "metadata": {
        "id": "upznWo7n4o0F"
      },
      "execution_count": null,
      "outputs": []
    }
  ]
}